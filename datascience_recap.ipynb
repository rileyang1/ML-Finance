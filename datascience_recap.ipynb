{
 "cells": [
  {
   "cell_type": "markdown",
   "id": "dc9dc8af-26ec-4fb6-b7db-ba40ab5f34f1",
   "metadata": {},
   "source": [
    "## Pandas Recap"
   ]
  },
  {
   "cell_type": "code",
   "execution_count": 1,
   "id": "e1c6d2c2-3b11-475e-ae7c-a9f11c95a635",
   "metadata": {
    "tags": []
   },
   "outputs": [],
   "source": [
    "import pandas as pd\n",
    "import numpy as np"
   ]
  },
  {
   "cell_type": "markdown",
   "id": "5f27aa23-0618-451a-84bd-a50181b52e9d",
   "metadata": {
    "tags": []
   },
   "source": [
    "## 1. Series"
   ]
  },
  {
   "cell_type": "code",
   "execution_count": 2,
   "id": "54220900-8083-4fd2-b7ba-5e91dc6591af",
   "metadata": {
    "tags": []
   },
   "outputs": [
    {
     "data": {
      "text/plain": [
       "a    10\n",
       "b    20\n",
       "c    30\n",
       "dtype: int64"
      ]
     },
     "execution_count": 2,
     "metadata": {},
     "output_type": "execute_result"
    }
   ],
   "source": [
    "# initializing a series as a dictionary\n",
    "indicies = ['a', 'b', 'c']\n",
    "data = [10,20,30]\n",
    "s1 = pd.Series(data, indicies)\n",
    "s1"
   ]
  },
  {
   "cell_type": "code",
   "execution_count": 3,
   "id": "b31d547a-db98-4505-ac3b-be5f17d87012",
   "metadata": {
    "tags": []
   },
   "outputs": [
    {
     "data": {
      "text/plain": [
       "0    10\n",
       "1    20\n",
       "2    30\n",
       "dtype: int64"
      ]
     },
     "execution_count": 3,
     "metadata": {},
     "output_type": "execute_result"
    }
   ],
   "source": [
    "s2 = pd.Series(data)\n",
    "s2"
   ]
  },
  {
   "cell_type": "code",
   "execution_count": 4,
   "id": "84281d77-dd2c-4db6-8862-cf8b8e4c4067",
   "metadata": {
    "tags": []
   },
   "outputs": [
    {
     "data": {
      "text/plain": [
       "a    10\n",
       "b    20\n",
       "c    30\n",
       "dtype: int64"
      ]
     },
     "execution_count": 4,
     "metadata": {},
     "output_type": "execute_result"
    }
   ],
   "source": [
    "s3 = pd.Series({'a':10, 'b':20, 'c':30})\n",
    "s3"
   ]
  },
  {
   "cell_type": "code",
   "execution_count": 5,
   "id": "60b8afd8-876c-44dc-9c8a-cc0cb4519a07",
   "metadata": {
    "tags": []
   },
   "outputs": [],
   "source": [
    "s1['a'] = s1['a'] ** 3"
   ]
  },
  {
   "cell_type": "code",
   "execution_count": 6,
   "id": "315d6a3e-c2b3-470e-b925-cd8a3b0fc288",
   "metadata": {
    "tags": []
   },
   "outputs": [
    {
     "data": {
      "text/plain": [
       "a    1000\n",
       "b      20\n",
       "c      30\n",
       "dtype: int64"
      ]
     },
     "execution_count": 6,
     "metadata": {},
     "output_type": "execute_result"
    }
   ],
   "source": [
    "s1"
   ]
  },
  {
   "cell_type": "code",
   "execution_count": 7,
   "id": "97a7df7e-87f1-4d61-b449-9901f51b354c",
   "metadata": {
    "tags": []
   },
   "outputs": [
    {
     "data": {
      "text/plain": [
       "a    1010\n",
       "b      40\n",
       "c      60\n",
       "dtype: int64"
      ]
     },
     "execution_count": 7,
     "metadata": {},
     "output_type": "execute_result"
    }
   ],
   "source": [
    "s1 + s3"
   ]
  },
  {
   "cell_type": "code",
   "execution_count": 8,
   "id": "44975a61-f425-493d-bf6a-48c69e77adb2",
   "metadata": {
    "tags": []
   },
   "outputs": [
    {
     "data": {
      "text/plain": [
       "a   NaN\n",
       "b   NaN\n",
       "c   NaN\n",
       "0   NaN\n",
       "1   NaN\n",
       "2   NaN\n",
       "dtype: float64"
      ]
     },
     "execution_count": 8,
     "metadata": {},
     "output_type": "execute_result"
    }
   ],
   "source": [
    "s1 + s2"
   ]
  },
  {
   "cell_type": "code",
   "execution_count": 9,
   "id": "f7827f48-6c72-4eee-9725-bffed4aa33d2",
   "metadata": {
    "tags": []
   },
   "outputs": [
    {
     "data": {
      "text/plain": [
       "1050"
      ]
     },
     "execution_count": 9,
     "metadata": {},
     "output_type": "execute_result"
    }
   ],
   "source": [
    "s1.sum()"
   ]
  },
  {
   "cell_type": "code",
   "execution_count": 10,
   "id": "1ce85a0d-83e7-44f5-b910-f27c8b4cdfec",
   "metadata": {
    "tags": []
   },
   "outputs": [
    {
     "data": {
      "text/plain": [
       "600000"
      ]
     },
     "execution_count": 10,
     "metadata": {},
     "output_type": "execute_result"
    }
   ],
   "source": [
    "s1.product()"
   ]
  },
  {
   "cell_type": "markdown",
   "id": "b530a7c9-2ac6-40da-900b-6cf05084809a",
   "metadata": {
    "tags": []
   },
   "source": [
    "## 2. DataFrames"
   ]
  },
  {
   "cell_type": "markdown",
   "id": "ef8e9ed5-155f-4697-b80f-d76bf1a2e797",
   "metadata": {
    "tags": []
   },
   "source": [
    "### 2.1 Initializing and loc"
   ]
  },
  {
   "cell_type": "code",
   "execution_count": 11,
   "id": "12442e36-cdad-4140-b0fc-178c2d93444f",
   "metadata": {
    "tags": []
   },
   "outputs": [
    {
     "data": {
      "text/html": [
       "<div>\n",
       "<style scoped>\n",
       "    .dataframe tbody tr th:only-of-type {\n",
       "        vertical-align: middle;\n",
       "    }\n",
       "\n",
       "    .dataframe tbody tr th {\n",
       "        vertical-align: top;\n",
       "    }\n",
       "\n",
       "    .dataframe thead th {\n",
       "        text-align: right;\n",
       "    }\n",
       "</style>\n",
       "<table border=\"1\" class=\"dataframe\">\n",
       "  <thead>\n",
       "    <tr style=\"text-align: right;\">\n",
       "      <th></th>\n",
       "      <th>price</th>\n",
       "      <th>volume</th>\n",
       "      <th>return</th>\n",
       "      <th>open</th>\n",
       "      <th>close</th>\n",
       "    </tr>\n",
       "  </thead>\n",
       "  <tbody>\n",
       "    <tr>\n",
       "      <th>A</th>\n",
       "      <td>0.638585</td>\n",
       "      <td>0.510989</td>\n",
       "      <td>0.130312</td>\n",
       "      <td>0.653001</td>\n",
       "      <td>0.364274</td>\n",
       "    </tr>\n",
       "    <tr>\n",
       "      <th>B</th>\n",
       "      <td>0.646201</td>\n",
       "      <td>0.932677</td>\n",
       "      <td>0.194380</td>\n",
       "      <td>0.394443</td>\n",
       "      <td>0.427664</td>\n",
       "    </tr>\n",
       "    <tr>\n",
       "      <th>C</th>\n",
       "      <td>0.716043</td>\n",
       "      <td>0.835974</td>\n",
       "      <td>0.297382</td>\n",
       "      <td>0.672268</td>\n",
       "      <td>0.438780</td>\n",
       "    </tr>\n",
       "  </tbody>\n",
       "</table>\n",
       "</div>"
      ],
      "text/plain": [
       "      price    volume    return      open     close\n",
       "A  0.638585  0.510989  0.130312  0.653001  0.364274\n",
       "B  0.646201  0.932677  0.194380  0.394443  0.427664\n",
       "C  0.716043  0.835974  0.297382  0.672268  0.438780"
      ]
     },
     "execution_count": 11,
     "metadata": {},
     "output_type": "execute_result"
    }
   ],
   "source": [
    "df = pd.DataFrame(np.random.rand(3,5),\n",
    "                  ['A', 'B', 'C'], \n",
    "                  ['price', 'volume', 'return', 'open', 'close'])\n",
    "df"
   ]
  },
  {
   "cell_type": "code",
   "execution_count": 12,
   "id": "6d7468c0-b340-46cd-963f-bb67666f70a5",
   "metadata": {
    "tags": []
   },
   "outputs": [
    {
     "data": {
      "text/plain": [
       "A    0.638585\n",
       "B    0.646201\n",
       "C    0.716043\n",
       "Name: price, dtype: float64"
      ]
     },
     "execution_count": 12,
     "metadata": {},
     "output_type": "execute_result"
    }
   ],
   "source": [
    "df['price']"
   ]
  },
  {
   "cell_type": "code",
   "execution_count": 13,
   "id": "66338a5a-f6e9-45dd-b0e5-c89eb4a7666c",
   "metadata": {
    "tags": []
   },
   "outputs": [
    {
     "data": {
      "text/plain": [
       "price     0.638585\n",
       "volume    0.510989\n",
       "return    0.130312\n",
       "open      0.653001\n",
       "close     0.364274\n",
       "Name: A, dtype: float64"
      ]
     },
     "execution_count": 13,
     "metadata": {},
     "output_type": "execute_result"
    }
   ],
   "source": [
    "df.loc['A']"
   ]
  },
  {
   "cell_type": "code",
   "execution_count": 14,
   "id": "cc833a5e-b0ea-4858-a6d2-3ce76e0200b8",
   "metadata": {
    "tags": []
   },
   "outputs": [
    {
     "data": {
      "text/plain": [
       "0.8359736669583225"
      ]
     },
     "execution_count": 14,
     "metadata": {},
     "output_type": "execute_result"
    }
   ],
   "source": [
    "df['volume']['C']"
   ]
  },
  {
   "cell_type": "code",
   "execution_count": 15,
   "id": "75e4f225-96d8-4f62-a3de-699b0bd47301",
   "metadata": {
    "tags": []
   },
   "outputs": [
    {
     "data": {
      "text/plain": [
       "0.8359736669583225"
      ]
     },
     "execution_count": 15,
     "metadata": {},
     "output_type": "execute_result"
    }
   ],
   "source": [
    "df.loc['C', 'volume']"
   ]
  },
  {
   "cell_type": "code",
   "execution_count": 16,
   "id": "98e04811-4c59-413a-831e-f31cbb2e0b5b",
   "metadata": {
    "tags": []
   },
   "outputs": [
    {
     "data": {
      "text/plain": [
       "0.8359736669583225"
      ]
     },
     "execution_count": 16,
     "metadata": {},
     "output_type": "execute_result"
    }
   ],
   "source": [
    "df.iloc[2,1]"
   ]
  },
  {
   "cell_type": "markdown",
   "id": "3a3a00ce-3788-4524-9fb6-74bf6d9d7fae",
   "metadata": {
    "tags": []
   },
   "source": [
    "### 2.2 Multi-Dimensional Hierachical Indexing"
   ]
  },
  {
   "cell_type": "code",
   "execution_count": 17,
   "id": "a7b1d307-94ad-4484-82b5-2d1e023aa2ab",
   "metadata": {
    "tags": []
   },
   "outputs": [],
   "source": [
    "out = ['CAN', 'CAN', 'CAN', 'FR', 'FR', 'FR', 'USA', 'USA', 'USA']\n",
    "inside = ['MORNING', 'MIDDAY', 'EVENING', 'MORNING', 'MIDDAY', 'EVENING', 'MORNING', 'MIDDAY', 'EVENING']\n",
    "idxzip = zip(out, inside)\n",
    "indexRows = pd.MultiIndex.from_tuples(idxzip)\n",
    "df2 = pd.DataFrame(np.random.rand(9,3), indexRows, ['price', 'close', 'open'])"
   ]
  },
  {
   "cell_type": "code",
   "execution_count": 18,
   "id": "d8de51b4-5ca0-470c-95d5-42e9a92b5e4b",
   "metadata": {
    "tags": []
   },
   "outputs": [
    {
     "data": {
      "text/html": [
       "<div>\n",
       "<style scoped>\n",
       "    .dataframe tbody tr th:only-of-type {\n",
       "        vertical-align: middle;\n",
       "    }\n",
       "\n",
       "    .dataframe tbody tr th {\n",
       "        vertical-align: top;\n",
       "    }\n",
       "\n",
       "    .dataframe thead th {\n",
       "        text-align: right;\n",
       "    }\n",
       "</style>\n",
       "<table border=\"1\" class=\"dataframe\">\n",
       "  <thead>\n",
       "    <tr style=\"text-align: right;\">\n",
       "      <th></th>\n",
       "      <th></th>\n",
       "      <th>price</th>\n",
       "      <th>close</th>\n",
       "      <th>open</th>\n",
       "    </tr>\n",
       "  </thead>\n",
       "  <tbody>\n",
       "    <tr>\n",
       "      <th rowspan=\"3\" valign=\"top\">CAN</th>\n",
       "      <th>MORNING</th>\n",
       "      <td>0.048495</td>\n",
       "      <td>0.192432</td>\n",
       "      <td>0.951430</td>\n",
       "    </tr>\n",
       "    <tr>\n",
       "      <th>MIDDAY</th>\n",
       "      <td>0.360391</td>\n",
       "      <td>0.658626</td>\n",
       "      <td>0.536663</td>\n",
       "    </tr>\n",
       "    <tr>\n",
       "      <th>EVENING</th>\n",
       "      <td>0.631125</td>\n",
       "      <td>0.330316</td>\n",
       "      <td>0.547540</td>\n",
       "    </tr>\n",
       "    <tr>\n",
       "      <th rowspan=\"3\" valign=\"top\">FR</th>\n",
       "      <th>MORNING</th>\n",
       "      <td>0.471163</td>\n",
       "      <td>0.437288</td>\n",
       "      <td>0.372640</td>\n",
       "    </tr>\n",
       "    <tr>\n",
       "      <th>MIDDAY</th>\n",
       "      <td>0.471932</td>\n",
       "      <td>0.447665</td>\n",
       "      <td>0.711506</td>\n",
       "    </tr>\n",
       "    <tr>\n",
       "      <th>EVENING</th>\n",
       "      <td>0.012559</td>\n",
       "      <td>0.290532</td>\n",
       "      <td>0.760710</td>\n",
       "    </tr>\n",
       "    <tr>\n",
       "      <th rowspan=\"3\" valign=\"top\">USA</th>\n",
       "      <th>MORNING</th>\n",
       "      <td>0.150100</td>\n",
       "      <td>0.442317</td>\n",
       "      <td>0.640274</td>\n",
       "    </tr>\n",
       "    <tr>\n",
       "      <th>MIDDAY</th>\n",
       "      <td>0.967930</td>\n",
       "      <td>0.037712</td>\n",
       "      <td>0.922837</td>\n",
       "    </tr>\n",
       "    <tr>\n",
       "      <th>EVENING</th>\n",
       "      <td>0.042923</td>\n",
       "      <td>0.975885</td>\n",
       "      <td>0.082247</td>\n",
       "    </tr>\n",
       "  </tbody>\n",
       "</table>\n",
       "</div>"
      ],
      "text/plain": [
       "                price     close      open\n",
       "CAN MORNING  0.048495  0.192432  0.951430\n",
       "    MIDDAY   0.360391  0.658626  0.536663\n",
       "    EVENING  0.631125  0.330316  0.547540\n",
       "FR  MORNING  0.471163  0.437288  0.372640\n",
       "    MIDDAY   0.471932  0.447665  0.711506\n",
       "    EVENING  0.012559  0.290532  0.760710\n",
       "USA MORNING  0.150100  0.442317  0.640274\n",
       "    MIDDAY   0.967930  0.037712  0.922837\n",
       "    EVENING  0.042923  0.975885  0.082247"
      ]
     },
     "execution_count": 18,
     "metadata": {},
     "output_type": "execute_result"
    }
   ],
   "source": [
    "df2"
   ]
  },
  {
   "cell_type": "code",
   "execution_count": 19,
   "id": "c1ba290b-a369-4dfd-8f28-9e54a257e52e",
   "metadata": {
    "tags": []
   },
   "outputs": [
    {
     "data": {
      "text/plain": [
       "0.04849450540393341"
      ]
     },
     "execution_count": 19,
     "metadata": {},
     "output_type": "execute_result"
    }
   ],
   "source": [
    "df2.loc['CAN', 'MORNING']['price']"
   ]
  },
  {
   "cell_type": "markdown",
   "id": "719c7eb0-6fe9-4970-b895-d4327b2b9d00",
   "metadata": {
    "tags": []
   },
   "source": [
    "### 2.3 Boolean Operations"
   ]
  },
  {
   "cell_type": "code",
   "execution_count": 20,
   "id": "4d34b600-7083-46d1-8a1b-e034d6f51b27",
   "metadata": {
    "tags": []
   },
   "outputs": [
    {
     "data": {
      "text/html": [
       "<div>\n",
       "<style scoped>\n",
       "    .dataframe tbody tr th:only-of-type {\n",
       "        vertical-align: middle;\n",
       "    }\n",
       "\n",
       "    .dataframe tbody tr th {\n",
       "        vertical-align: top;\n",
       "    }\n",
       "\n",
       "    .dataframe thead th {\n",
       "        text-align: right;\n",
       "    }\n",
       "</style>\n",
       "<table border=\"1\" class=\"dataframe\">\n",
       "  <thead>\n",
       "    <tr style=\"text-align: right;\">\n",
       "      <th></th>\n",
       "      <th>price</th>\n",
       "      <th>volume</th>\n",
       "      <th>return</th>\n",
       "      <th>open</th>\n",
       "      <th>close</th>\n",
       "    </tr>\n",
       "  </thead>\n",
       "  <tbody>\n",
       "    <tr>\n",
       "      <th>A</th>\n",
       "      <td>0.638585</td>\n",
       "      <td>0.510989</td>\n",
       "      <td>0.130312</td>\n",
       "      <td>0.653001</td>\n",
       "      <td>0.364274</td>\n",
       "    </tr>\n",
       "    <tr>\n",
       "      <th>B</th>\n",
       "      <td>0.646201</td>\n",
       "      <td>0.932677</td>\n",
       "      <td>0.194380</td>\n",
       "      <td>0.394443</td>\n",
       "      <td>0.427664</td>\n",
       "    </tr>\n",
       "    <tr>\n",
       "      <th>C</th>\n",
       "      <td>0.716043</td>\n",
       "      <td>0.835974</td>\n",
       "      <td>0.297382</td>\n",
       "      <td>0.672268</td>\n",
       "      <td>0.438780</td>\n",
       "    </tr>\n",
       "  </tbody>\n",
       "</table>\n",
       "</div>"
      ],
      "text/plain": [
       "      price    volume    return      open     close\n",
       "A  0.638585  0.510989  0.130312  0.653001  0.364274\n",
       "B  0.646201  0.932677  0.194380  0.394443  0.427664\n",
       "C  0.716043  0.835974  0.297382  0.672268  0.438780"
      ]
     },
     "execution_count": 20,
     "metadata": {},
     "output_type": "execute_result"
    }
   ],
   "source": [
    "df"
   ]
  },
  {
   "cell_type": "code",
   "execution_count": 21,
   "id": "aad3628b-1770-4bc6-bd4a-e9a56a7cf34a",
   "metadata": {
    "tags": []
   },
   "outputs": [
    {
     "data": {
      "text/html": [
       "<div>\n",
       "<style scoped>\n",
       "    .dataframe tbody tr th:only-of-type {\n",
       "        vertical-align: middle;\n",
       "    }\n",
       "\n",
       "    .dataframe tbody tr th {\n",
       "        vertical-align: top;\n",
       "    }\n",
       "\n",
       "    .dataframe thead th {\n",
       "        text-align: right;\n",
       "    }\n",
       "</style>\n",
       "<table border=\"1\" class=\"dataframe\">\n",
       "  <thead>\n",
       "    <tr style=\"text-align: right;\">\n",
       "      <th></th>\n",
       "      <th>price</th>\n",
       "      <th>volume</th>\n",
       "      <th>return</th>\n",
       "      <th>open</th>\n",
       "      <th>close</th>\n",
       "    </tr>\n",
       "  </thead>\n",
       "  <tbody>\n",
       "    <tr>\n",
       "      <th>A</th>\n",
       "      <td>0.638585</td>\n",
       "      <td>0.510989</td>\n",
       "      <td>NaN</td>\n",
       "      <td>0.653001</td>\n",
       "      <td>NaN</td>\n",
       "    </tr>\n",
       "    <tr>\n",
       "      <th>B</th>\n",
       "      <td>0.646201</td>\n",
       "      <td>0.932677</td>\n",
       "      <td>NaN</td>\n",
       "      <td>NaN</td>\n",
       "      <td>NaN</td>\n",
       "    </tr>\n",
       "    <tr>\n",
       "      <th>C</th>\n",
       "      <td>0.716043</td>\n",
       "      <td>0.835974</td>\n",
       "      <td>NaN</td>\n",
       "      <td>0.672268</td>\n",
       "      <td>NaN</td>\n",
       "    </tr>\n",
       "  </tbody>\n",
       "</table>\n",
       "</div>"
      ],
      "text/plain": [
       "      price    volume  return      open  close\n",
       "A  0.638585  0.510989     NaN  0.653001    NaN\n",
       "B  0.646201  0.932677     NaN       NaN    NaN\n",
       "C  0.716043  0.835974     NaN  0.672268    NaN"
      ]
     },
     "execution_count": 21,
     "metadata": {},
     "output_type": "execute_result"
    }
   ],
   "source": [
    "df[df>0.5]"
   ]
  },
  {
   "cell_type": "code",
   "execution_count": 22,
   "id": "8f3fab83-917d-48f9-a9c7-0373335b079a",
   "metadata": {
    "tags": []
   },
   "outputs": [
    {
     "data": {
      "text/html": [
       "<div>\n",
       "<style scoped>\n",
       "    .dataframe tbody tr th:only-of-type {\n",
       "        vertical-align: middle;\n",
       "    }\n",
       "\n",
       "    .dataframe tbody tr th {\n",
       "        vertical-align: top;\n",
       "    }\n",
       "\n",
       "    .dataframe thead th {\n",
       "        text-align: right;\n",
       "    }\n",
       "</style>\n",
       "<table border=\"1\" class=\"dataframe\">\n",
       "  <thead>\n",
       "    <tr style=\"text-align: right;\">\n",
       "      <th></th>\n",
       "      <th>price</th>\n",
       "      <th>volume</th>\n",
       "      <th>return</th>\n",
       "      <th>open</th>\n",
       "      <th>close</th>\n",
       "    </tr>\n",
       "  </thead>\n",
       "  <tbody>\n",
       "    <tr>\n",
       "      <th>A</th>\n",
       "      <td>NaN</td>\n",
       "      <td>NaN</td>\n",
       "      <td>0.130312</td>\n",
       "      <td>NaN</td>\n",
       "      <td>NaN</td>\n",
       "    </tr>\n",
       "    <tr>\n",
       "      <th>B</th>\n",
       "      <td>NaN</td>\n",
       "      <td>0.932677</td>\n",
       "      <td>0.194380</td>\n",
       "      <td>NaN</td>\n",
       "      <td>NaN</td>\n",
       "    </tr>\n",
       "    <tr>\n",
       "      <th>C</th>\n",
       "      <td>NaN</td>\n",
       "      <td>NaN</td>\n",
       "      <td>0.297382</td>\n",
       "      <td>NaN</td>\n",
       "      <td>NaN</td>\n",
       "    </tr>\n",
       "  </tbody>\n",
       "</table>\n",
       "</div>"
      ],
      "text/plain": [
       "   price    volume    return  open  close\n",
       "A    NaN       NaN  0.130312   NaN    NaN\n",
       "B    NaN  0.932677  0.194380   NaN    NaN\n",
       "C    NaN       NaN  0.297382   NaN    NaN"
      ]
     },
     "execution_count": 22,
     "metadata": {},
     "output_type": "execute_result"
    }
   ],
   "source": [
    "df[(df < 0.3) | (df > 0.9)]"
   ]
  },
  {
   "cell_type": "code",
   "execution_count": 23,
   "id": "87930d6a-971d-445f-b5ff-9829fe2c4465",
   "metadata": {
    "tags": []
   },
   "outputs": [
    {
     "data": {
      "text/html": [
       "<div>\n",
       "<style scoped>\n",
       "    .dataframe tbody tr th:only-of-type {\n",
       "        vertical-align: middle;\n",
       "    }\n",
       "\n",
       "    .dataframe tbody tr th {\n",
       "        vertical-align: top;\n",
       "    }\n",
       "\n",
       "    .dataframe thead th {\n",
       "        text-align: right;\n",
       "    }\n",
       "</style>\n",
       "<table border=\"1\" class=\"dataframe\">\n",
       "  <thead>\n",
       "    <tr style=\"text-align: right;\">\n",
       "      <th></th>\n",
       "      <th>price</th>\n",
       "      <th>volume</th>\n",
       "      <th>return</th>\n",
       "      <th>open</th>\n",
       "      <th>close</th>\n",
       "    </tr>\n",
       "  </thead>\n",
       "  <tbody>\n",
       "    <tr>\n",
       "      <th>A</th>\n",
       "      <td>0.638585</td>\n",
       "      <td>0.510989</td>\n",
       "      <td>NaN</td>\n",
       "      <td>0.653001</td>\n",
       "      <td>0.364274</td>\n",
       "    </tr>\n",
       "    <tr>\n",
       "      <th>B</th>\n",
       "      <td>0.646201</td>\n",
       "      <td>NaN</td>\n",
       "      <td>NaN</td>\n",
       "      <td>0.394443</td>\n",
       "      <td>0.427664</td>\n",
       "    </tr>\n",
       "    <tr>\n",
       "      <th>C</th>\n",
       "      <td>0.716043</td>\n",
       "      <td>0.835974</td>\n",
       "      <td>NaN</td>\n",
       "      <td>0.672268</td>\n",
       "      <td>0.438780</td>\n",
       "    </tr>\n",
       "  </tbody>\n",
       "</table>\n",
       "</div>"
      ],
      "text/plain": [
       "      price    volume  return      open     close\n",
       "A  0.638585  0.510989     NaN  0.653001  0.364274\n",
       "B  0.646201       NaN     NaN  0.394443  0.427664\n",
       "C  0.716043  0.835974     NaN  0.672268  0.438780"
      ]
     },
     "execution_count": 23,
     "metadata": {},
     "output_type": "execute_result"
    }
   ],
   "source": [
    "df[(df > 0.3) & (df < 0.9)]"
   ]
  },
  {
   "cell_type": "markdown",
   "id": "bbee8ed2-2a7e-4816-b804-3fbc8507befa",
   "metadata": {
    "tags": []
   },
   "source": [
    "### 2.4 Aggregate Functions"
   ]
  },
  {
   "cell_type": "code",
   "execution_count": 24,
   "id": "4a7d3f1b-5d1e-4d99-8bf9-7e71185bcecd",
   "metadata": {
    "tags": []
   },
   "outputs": [
    {
     "data": {
      "text/plain": [
       "array([0.41081718, 0.45095219, 0.58253336, 0.98064195, 0.96309898,\n",
       "       0.69541284, 0.79484352, 0.02832895, 0.69271605])"
      ]
     },
     "execution_count": 24,
     "metadata": {},
     "output_type": "execute_result"
    }
   ],
   "source": [
    "np.random.rand(9)"
   ]
  },
  {
   "cell_type": "code",
   "execution_count": 25,
   "id": "8470b3ce-159b-4ddf-b67f-6f8f0f02260d",
   "metadata": {
    "tags": []
   },
   "outputs": [],
   "source": [
    "dictionary = {'Country' : ['UK', 'UK', 'FR', 'FR', 'CAN', 'CAN', 'USA', 'USA'],\n",
    "              'Stock Price' : np.random.rand(8)*100, \n",
    "              'Sales' : np.random.rand(8)*100, \n",
    "}\n",
    "df = pd.DataFrame(dictionary)"
   ]
  },
  {
   "cell_type": "code",
   "execution_count": 26,
   "id": "cf403bcd-efd4-4ae8-a2a4-0f8061d91290",
   "metadata": {
    "tags": []
   },
   "outputs": [
    {
     "data": {
      "text/html": [
       "<div>\n",
       "<style scoped>\n",
       "    .dataframe tbody tr th:only-of-type {\n",
       "        vertical-align: middle;\n",
       "    }\n",
       "\n",
       "    .dataframe tbody tr th {\n",
       "        vertical-align: top;\n",
       "    }\n",
       "\n",
       "    .dataframe thead th {\n",
       "        text-align: right;\n",
       "    }\n",
       "</style>\n",
       "<table border=\"1\" class=\"dataframe\">\n",
       "  <thead>\n",
       "    <tr style=\"text-align: right;\">\n",
       "      <th></th>\n",
       "      <th>Country</th>\n",
       "      <th>Stock Price</th>\n",
       "      <th>Sales</th>\n",
       "    </tr>\n",
       "  </thead>\n",
       "  <tbody>\n",
       "    <tr>\n",
       "      <th>0</th>\n",
       "      <td>UK</td>\n",
       "      <td>39.378163</td>\n",
       "      <td>13.565146</td>\n",
       "    </tr>\n",
       "    <tr>\n",
       "      <th>1</th>\n",
       "      <td>UK</td>\n",
       "      <td>5.404752</td>\n",
       "      <td>58.565759</td>\n",
       "    </tr>\n",
       "    <tr>\n",
       "      <th>2</th>\n",
       "      <td>FR</td>\n",
       "      <td>44.366322</td>\n",
       "      <td>72.807617</td>\n",
       "    </tr>\n",
       "    <tr>\n",
       "      <th>3</th>\n",
       "      <td>FR</td>\n",
       "      <td>52.584823</td>\n",
       "      <td>70.791093</td>\n",
       "    </tr>\n",
       "    <tr>\n",
       "      <th>4</th>\n",
       "      <td>CAN</td>\n",
       "      <td>2.959242</td>\n",
       "      <td>31.331477</td>\n",
       "    </tr>\n",
       "    <tr>\n",
       "      <th>5</th>\n",
       "      <td>CAN</td>\n",
       "      <td>77.670980</td>\n",
       "      <td>56.641979</td>\n",
       "    </tr>\n",
       "    <tr>\n",
       "      <th>6</th>\n",
       "      <td>USA</td>\n",
       "      <td>78.929836</td>\n",
       "      <td>45.549458</td>\n",
       "    </tr>\n",
       "    <tr>\n",
       "      <th>7</th>\n",
       "      <td>USA</td>\n",
       "      <td>64.731380</td>\n",
       "      <td>94.053137</td>\n",
       "    </tr>\n",
       "  </tbody>\n",
       "</table>\n",
       "</div>"
      ],
      "text/plain": [
       "  Country  Stock Price      Sales\n",
       "0      UK    39.378163  13.565146\n",
       "1      UK     5.404752  58.565759\n",
       "2      FR    44.366322  72.807617\n",
       "3      FR    52.584823  70.791093\n",
       "4     CAN     2.959242  31.331477\n",
       "5     CAN    77.670980  56.641979\n",
       "6     USA    78.929836  45.549458\n",
       "7     USA    64.731380  94.053137"
      ]
     },
     "execution_count": 26,
     "metadata": {},
     "output_type": "execute_result"
    }
   ],
   "source": [
    "df"
   ]
  },
  {
   "cell_type": "code",
   "execution_count": 27,
   "id": "316cad7a-1aa5-4f2c-9081-5288f141b69e",
   "metadata": {
    "tags": []
   },
   "outputs": [
    {
     "name": "stdout",
     "output_type": "stream",
     "text": [
      "<class 'pandas.core.frame.DataFrame'>\n",
      "RangeIndex: 8 entries, 0 to 7\n",
      "Data columns (total 3 columns):\n",
      " #   Column       Non-Null Count  Dtype  \n",
      "---  ------       --------------  -----  \n",
      " 0   Country      8 non-null      object \n",
      " 1   Stock Price  8 non-null      float64\n",
      " 2   Sales        8 non-null      float64\n",
      "dtypes: float64(2), object(1)\n",
      "memory usage: 320.0+ bytes\n"
     ]
    }
   ],
   "source": [
    "df.info()"
   ]
  },
  {
   "cell_type": "code",
   "execution_count": 28,
   "id": "c1708172-3836-4f92-bafc-a004e2f8dea2",
   "metadata": {
    "tags": []
   },
   "outputs": [
    {
     "data": {
      "text/html": [
       "<div>\n",
       "<style scoped>\n",
       "    .dataframe tbody tr th:only-of-type {\n",
       "        vertical-align: middle;\n",
       "    }\n",
       "\n",
       "    .dataframe tbody tr th {\n",
       "        vertical-align: top;\n",
       "    }\n",
       "\n",
       "    .dataframe thead th {\n",
       "        text-align: right;\n",
       "    }\n",
       "</style>\n",
       "<table border=\"1\" class=\"dataframe\">\n",
       "  <thead>\n",
       "    <tr style=\"text-align: right;\">\n",
       "      <th></th>\n",
       "      <th>Stock Price</th>\n",
       "      <th>Sales</th>\n",
       "    </tr>\n",
       "  </thead>\n",
       "  <tbody>\n",
       "    <tr>\n",
       "      <th>count</th>\n",
       "      <td>8.000000</td>\n",
       "      <td>8.000000</td>\n",
       "    </tr>\n",
       "    <tr>\n",
       "      <th>mean</th>\n",
       "      <td>45.753187</td>\n",
       "      <td>55.413208</td>\n",
       "    </tr>\n",
       "    <tr>\n",
       "      <th>std</th>\n",
       "      <td>29.345627</td>\n",
       "      <td>25.275683</td>\n",
       "    </tr>\n",
       "    <tr>\n",
       "      <th>min</th>\n",
       "      <td>2.959242</td>\n",
       "      <td>13.565146</td>\n",
       "    </tr>\n",
       "    <tr>\n",
       "      <th>25%</th>\n",
       "      <td>30.884810</td>\n",
       "      <td>41.994963</td>\n",
       "    </tr>\n",
       "    <tr>\n",
       "      <th>50%</th>\n",
       "      <td>48.475573</td>\n",
       "      <td>57.603869</td>\n",
       "    </tr>\n",
       "    <tr>\n",
       "      <th>75%</th>\n",
       "      <td>67.966280</td>\n",
       "      <td>71.295224</td>\n",
       "    </tr>\n",
       "    <tr>\n",
       "      <th>max</th>\n",
       "      <td>78.929836</td>\n",
       "      <td>94.053137</td>\n",
       "    </tr>\n",
       "  </tbody>\n",
       "</table>\n",
       "</div>"
      ],
      "text/plain": [
       "       Stock Price      Sales\n",
       "count     8.000000   8.000000\n",
       "mean     45.753187  55.413208\n",
       "std      29.345627  25.275683\n",
       "min       2.959242  13.565146\n",
       "25%      30.884810  41.994963\n",
       "50%      48.475573  57.603869\n",
       "75%      67.966280  71.295224\n",
       "max      78.929836  94.053137"
      ]
     },
     "execution_count": 28,
     "metadata": {},
     "output_type": "execute_result"
    }
   ],
   "source": [
    "df.describe()"
   ]
  },
  {
   "cell_type": "code",
   "execution_count": 29,
   "id": "8cfee611-652f-4972-937a-004ec527d9fd",
   "metadata": {
    "tags": []
   },
   "outputs": [
    {
     "data": {
      "text/plain": [
       "13.565145892670461"
      ]
     },
     "execution_count": 29,
     "metadata": {},
     "output_type": "execute_result"
    }
   ],
   "source": [
    "df.describe().loc['min', 'Sales']"
   ]
  },
  {
   "cell_type": "code",
   "execution_count": 30,
   "id": "6e6d85d9-217b-4810-bb00-b25daf3267c6",
   "metadata": {
    "tags": []
   },
   "outputs": [
    {
     "data": {
      "text/html": [
       "<div>\n",
       "<style scoped>\n",
       "    .dataframe tbody tr th:only-of-type {\n",
       "        vertical-align: middle;\n",
       "    }\n",
       "\n",
       "    .dataframe tbody tr th {\n",
       "        vertical-align: top;\n",
       "    }\n",
       "\n",
       "    .dataframe thead th {\n",
       "        text-align: right;\n",
       "    }\n",
       "</style>\n",
       "<table border=\"1\" class=\"dataframe\">\n",
       "  <thead>\n",
       "    <tr style=\"text-align: right;\">\n",
       "      <th></th>\n",
       "      <th>Country</th>\n",
       "      <th>CAN</th>\n",
       "      <th>FR</th>\n",
       "      <th>UK</th>\n",
       "      <th>USA</th>\n",
       "    </tr>\n",
       "  </thead>\n",
       "  <tbody>\n",
       "    <tr>\n",
       "      <th rowspan=\"8\" valign=\"top\">Stock Price</th>\n",
       "      <th>count</th>\n",
       "      <td>2.000000</td>\n",
       "      <td>2.000000</td>\n",
       "      <td>2.000000</td>\n",
       "      <td>2.000000</td>\n",
       "    </tr>\n",
       "    <tr>\n",
       "      <th>mean</th>\n",
       "      <td>40.315111</td>\n",
       "      <td>48.475573</td>\n",
       "      <td>22.391458</td>\n",
       "      <td>71.830608</td>\n",
       "    </tr>\n",
       "    <tr>\n",
       "      <th>std</th>\n",
       "      <td>52.829177</td>\n",
       "      <td>5.811358</td>\n",
       "      <td>24.022829</td>\n",
       "      <td>10.039825</td>\n",
       "    </tr>\n",
       "    <tr>\n",
       "      <th>min</th>\n",
       "      <td>2.959242</td>\n",
       "      <td>44.366322</td>\n",
       "      <td>5.404752</td>\n",
       "      <td>64.731380</td>\n",
       "    </tr>\n",
       "    <tr>\n",
       "      <th>25%</th>\n",
       "      <td>21.637176</td>\n",
       "      <td>46.420947</td>\n",
       "      <td>13.898105</td>\n",
       "      <td>68.280994</td>\n",
       "    </tr>\n",
       "    <tr>\n",
       "      <th>50%</th>\n",
       "      <td>40.315111</td>\n",
       "      <td>48.475573</td>\n",
       "      <td>22.391458</td>\n",
       "      <td>71.830608</td>\n",
       "    </tr>\n",
       "    <tr>\n",
       "      <th>75%</th>\n",
       "      <td>58.993046</td>\n",
       "      <td>50.530198</td>\n",
       "      <td>30.884810</td>\n",
       "      <td>75.380222</td>\n",
       "    </tr>\n",
       "    <tr>\n",
       "      <th>max</th>\n",
       "      <td>77.670980</td>\n",
       "      <td>52.584823</td>\n",
       "      <td>39.378163</td>\n",
       "      <td>78.929836</td>\n",
       "    </tr>\n",
       "    <tr>\n",
       "      <th rowspan=\"8\" valign=\"top\">Sales</th>\n",
       "      <th>count</th>\n",
       "      <td>2.000000</td>\n",
       "      <td>2.000000</td>\n",
       "      <td>2.000000</td>\n",
       "      <td>2.000000</td>\n",
       "    </tr>\n",
       "    <tr>\n",
       "      <th>mean</th>\n",
       "      <td>43.986728</td>\n",
       "      <td>71.799355</td>\n",
       "      <td>36.065452</td>\n",
       "      <td>69.801297</td>\n",
       "    </tr>\n",
       "    <tr>\n",
       "      <th>std</th>\n",
       "      <td>17.897228</td>\n",
       "      <td>1.425898</td>\n",
       "      <td>31.820239</td>\n",
       "      <td>34.297280</td>\n",
       "    </tr>\n",
       "    <tr>\n",
       "      <th>min</th>\n",
       "      <td>31.331477</td>\n",
       "      <td>70.791093</td>\n",
       "      <td>13.565146</td>\n",
       "      <td>45.549458</td>\n",
       "    </tr>\n",
       "    <tr>\n",
       "      <th>25%</th>\n",
       "      <td>37.659103</td>\n",
       "      <td>71.295224</td>\n",
       "      <td>24.815299</td>\n",
       "      <td>57.675377</td>\n",
       "    </tr>\n",
       "    <tr>\n",
       "      <th>50%</th>\n",
       "      <td>43.986728</td>\n",
       "      <td>71.799355</td>\n",
       "      <td>36.065452</td>\n",
       "      <td>69.801297</td>\n",
       "    </tr>\n",
       "    <tr>\n",
       "      <th>75%</th>\n",
       "      <td>50.314353</td>\n",
       "      <td>72.303486</td>\n",
       "      <td>47.315606</td>\n",
       "      <td>81.927217</td>\n",
       "    </tr>\n",
       "    <tr>\n",
       "      <th>max</th>\n",
       "      <td>56.641979</td>\n",
       "      <td>72.807617</td>\n",
       "      <td>58.565759</td>\n",
       "      <td>94.053137</td>\n",
       "    </tr>\n",
       "  </tbody>\n",
       "</table>\n",
       "</div>"
      ],
      "text/plain": [
       "Country                  CAN         FR         UK        USA\n",
       "Stock Price count   2.000000   2.000000   2.000000   2.000000\n",
       "            mean   40.315111  48.475573  22.391458  71.830608\n",
       "            std    52.829177   5.811358  24.022829  10.039825\n",
       "            min     2.959242  44.366322   5.404752  64.731380\n",
       "            25%    21.637176  46.420947  13.898105  68.280994\n",
       "            50%    40.315111  48.475573  22.391458  71.830608\n",
       "            75%    58.993046  50.530198  30.884810  75.380222\n",
       "            max    77.670980  52.584823  39.378163  78.929836\n",
       "Sales       count   2.000000   2.000000   2.000000   2.000000\n",
       "            mean   43.986728  71.799355  36.065452  69.801297\n",
       "            std    17.897228   1.425898  31.820239  34.297280\n",
       "            min    31.331477  70.791093  13.565146  45.549458\n",
       "            25%    37.659103  71.295224  24.815299  57.675377\n",
       "            50%    43.986728  71.799355  36.065452  69.801297\n",
       "            75%    50.314353  72.303486  47.315606  81.927217\n",
       "            max    56.641979  72.807617  58.565759  94.053137"
      ]
     },
     "execution_count": 30,
     "metadata": {},
     "output_type": "execute_result"
    }
   ],
   "source": [
    "df.groupby('Country').describe().T"
   ]
  },
  {
   "cell_type": "code",
   "execution_count": 31,
   "id": "06bb5bdd-a9be-405e-a081-f2f373679642",
   "metadata": {
    "tags": []
   },
   "outputs": [
    {
     "data": {
      "text/html": [
       "<div>\n",
       "<style scoped>\n",
       "    .dataframe tbody tr th:only-of-type {\n",
       "        vertical-align: middle;\n",
       "    }\n",
       "\n",
       "    .dataframe tbody tr th {\n",
       "        vertical-align: top;\n",
       "    }\n",
       "\n",
       "    .dataframe thead th {\n",
       "        text-align: right;\n",
       "    }\n",
       "</style>\n",
       "<table border=\"1\" class=\"dataframe\">\n",
       "  <thead>\n",
       "    <tr style=\"text-align: right;\">\n",
       "      <th></th>\n",
       "      <th>Stock Price</th>\n",
       "      <th>Sales</th>\n",
       "    </tr>\n",
       "    <tr>\n",
       "      <th>Country</th>\n",
       "      <th></th>\n",
       "      <th></th>\n",
       "    </tr>\n",
       "  </thead>\n",
       "  <tbody>\n",
       "    <tr>\n",
       "      <th>CAN</th>\n",
       "      <td>77.670980</td>\n",
       "      <td>56.641979</td>\n",
       "    </tr>\n",
       "    <tr>\n",
       "      <th>FR</th>\n",
       "      <td>52.584823</td>\n",
       "      <td>72.807617</td>\n",
       "    </tr>\n",
       "    <tr>\n",
       "      <th>UK</th>\n",
       "      <td>39.378163</td>\n",
       "      <td>58.565759</td>\n",
       "    </tr>\n",
       "    <tr>\n",
       "      <th>USA</th>\n",
       "      <td>78.929836</td>\n",
       "      <td>94.053137</td>\n",
       "    </tr>\n",
       "  </tbody>\n",
       "</table>\n",
       "</div>"
      ],
      "text/plain": [
       "         Stock Price      Sales\n",
       "Country                        \n",
       "CAN        77.670980  56.641979\n",
       "FR         52.584823  72.807617\n",
       "UK         39.378163  58.565759\n",
       "USA        78.929836  94.053137"
      ]
     },
     "execution_count": 31,
     "metadata": {},
     "output_type": "execute_result"
    }
   ],
   "source": [
    "df.groupby('Country').max()"
   ]
  },
  {
   "cell_type": "markdown",
   "id": "1e74bbc6-1164-4953-90de-6807d20f5861",
   "metadata": {
    "tags": []
   },
   "source": [
    "### 2.5 Concatenation and Merging"
   ]
  },
  {
   "cell_type": "code",
   "execution_count": 32,
   "id": "ce4396ef-c9cf-4976-a826-c005fd332a24",
   "metadata": {
    "tags": []
   },
   "outputs": [],
   "source": [
    "df1 = pd.DataFrame({'A': [1,2,3,4],\n",
    "                    'B': [10,20,30,40],\n",
    "                    'C': [100,200,300,400]})\n",
    "df2 = pd.DataFrame({'A': [5,6,7,8],\n",
    "                    'B': [50,60,70,80],\n",
    "                    'C': [500,600,700,800]})\n",
    "df3 = pd.DataFrame({'A': [9,10,11,12],\n",
    "                    'B': [90,100,110,120],\n",
    "                    'C': [900,1000,1100,1200]})"
   ]
  },
  {
   "cell_type": "code",
   "execution_count": 33,
   "id": "9f1ef718-7b42-4018-a00b-292307d07526",
   "metadata": {
    "tags": []
   },
   "outputs": [
    {
     "data": {
      "text/html": [
       "<div>\n",
       "<style scoped>\n",
       "    .dataframe tbody tr th:only-of-type {\n",
       "        vertical-align: middle;\n",
       "    }\n",
       "\n",
       "    .dataframe tbody tr th {\n",
       "        vertical-align: top;\n",
       "    }\n",
       "\n",
       "    .dataframe thead th {\n",
       "        text-align: right;\n",
       "    }\n",
       "</style>\n",
       "<table border=\"1\" class=\"dataframe\">\n",
       "  <thead>\n",
       "    <tr style=\"text-align: right;\">\n",
       "      <th></th>\n",
       "      <th>A</th>\n",
       "      <th>B</th>\n",
       "      <th>C</th>\n",
       "      <th>A</th>\n",
       "      <th>B</th>\n",
       "      <th>C</th>\n",
       "      <th>A</th>\n",
       "      <th>B</th>\n",
       "      <th>C</th>\n",
       "    </tr>\n",
       "  </thead>\n",
       "  <tbody>\n",
       "    <tr>\n",
       "      <th>0</th>\n",
       "      <td>1</td>\n",
       "      <td>10</td>\n",
       "      <td>100</td>\n",
       "      <td>5</td>\n",
       "      <td>50</td>\n",
       "      <td>500</td>\n",
       "      <td>9</td>\n",
       "      <td>90</td>\n",
       "      <td>900</td>\n",
       "    </tr>\n",
       "    <tr>\n",
       "      <th>1</th>\n",
       "      <td>2</td>\n",
       "      <td>20</td>\n",
       "      <td>200</td>\n",
       "      <td>6</td>\n",
       "      <td>60</td>\n",
       "      <td>600</td>\n",
       "      <td>10</td>\n",
       "      <td>100</td>\n",
       "      <td>1000</td>\n",
       "    </tr>\n",
       "    <tr>\n",
       "      <th>2</th>\n",
       "      <td>3</td>\n",
       "      <td>30</td>\n",
       "      <td>300</td>\n",
       "      <td>7</td>\n",
       "      <td>70</td>\n",
       "      <td>700</td>\n",
       "      <td>11</td>\n",
       "      <td>110</td>\n",
       "      <td>1100</td>\n",
       "    </tr>\n",
       "    <tr>\n",
       "      <th>3</th>\n",
       "      <td>4</td>\n",
       "      <td>40</td>\n",
       "      <td>400</td>\n",
       "      <td>8</td>\n",
       "      <td>80</td>\n",
       "      <td>800</td>\n",
       "      <td>12</td>\n",
       "      <td>120</td>\n",
       "      <td>1200</td>\n",
       "    </tr>\n",
       "  </tbody>\n",
       "</table>\n",
       "</div>"
      ],
      "text/plain": [
       "   A   B    C  A   B    C   A    B     C\n",
       "0  1  10  100  5  50  500   9   90   900\n",
       "1  2  20  200  6  60  600  10  100  1000\n",
       "2  3  30  300  7  70  700  11  110  1100\n",
       "3  4  40  400  8  80  800  12  120  1200"
      ]
     },
     "execution_count": 33,
     "metadata": {},
     "output_type": "execute_result"
    }
   ],
   "source": [
    "big_df = pd.concat([df1, df2, df3], axis=1)\n",
    "big_df"
   ]
  },
  {
   "cell_type": "code",
   "execution_count": 34,
   "id": "9f3ad156-0677-49e1-a41e-fad19129eb1b",
   "metadata": {
    "tags": []
   },
   "outputs": [
    {
     "data": {
      "text/html": [
       "<div>\n",
       "<style scoped>\n",
       "    .dataframe tbody tr th:only-of-type {\n",
       "        vertical-align: middle;\n",
       "    }\n",
       "\n",
       "    .dataframe tbody tr th {\n",
       "        vertical-align: top;\n",
       "    }\n",
       "\n",
       "    .dataframe thead th {\n",
       "        text-align: right;\n",
       "    }\n",
       "</style>\n",
       "<table border=\"1\" class=\"dataframe\">\n",
       "  <thead>\n",
       "    <tr style=\"text-align: right;\">\n",
       "      <th></th>\n",
       "      <th>A</th>\n",
       "      <th>B</th>\n",
       "      <th>C</th>\n",
       "    </tr>\n",
       "  </thead>\n",
       "  <tbody>\n",
       "    <tr>\n",
       "      <th>0</th>\n",
       "      <td>1</td>\n",
       "      <td>10</td>\n",
       "      <td>100</td>\n",
       "    </tr>\n",
       "    <tr>\n",
       "      <th>1</th>\n",
       "      <td>2</td>\n",
       "      <td>20</td>\n",
       "      <td>200</td>\n",
       "    </tr>\n",
       "    <tr>\n",
       "      <th>2</th>\n",
       "      <td>3</td>\n",
       "      <td>30</td>\n",
       "      <td>300</td>\n",
       "    </tr>\n",
       "    <tr>\n",
       "      <th>3</th>\n",
       "      <td>4</td>\n",
       "      <td>40</td>\n",
       "      <td>400</td>\n",
       "    </tr>\n",
       "    <tr>\n",
       "      <th>0</th>\n",
       "      <td>5</td>\n",
       "      <td>50</td>\n",
       "      <td>500</td>\n",
       "    </tr>\n",
       "    <tr>\n",
       "      <th>1</th>\n",
       "      <td>6</td>\n",
       "      <td>60</td>\n",
       "      <td>600</td>\n",
       "    </tr>\n",
       "    <tr>\n",
       "      <th>2</th>\n",
       "      <td>7</td>\n",
       "      <td>70</td>\n",
       "      <td>700</td>\n",
       "    </tr>\n",
       "    <tr>\n",
       "      <th>3</th>\n",
       "      <td>8</td>\n",
       "      <td>80</td>\n",
       "      <td>800</td>\n",
       "    </tr>\n",
       "    <tr>\n",
       "      <th>0</th>\n",
       "      <td>9</td>\n",
       "      <td>90</td>\n",
       "      <td>900</td>\n",
       "    </tr>\n",
       "    <tr>\n",
       "      <th>1</th>\n",
       "      <td>10</td>\n",
       "      <td>100</td>\n",
       "      <td>1000</td>\n",
       "    </tr>\n",
       "    <tr>\n",
       "      <th>2</th>\n",
       "      <td>11</td>\n",
       "      <td>110</td>\n",
       "      <td>1100</td>\n",
       "    </tr>\n",
       "    <tr>\n",
       "      <th>3</th>\n",
       "      <td>12</td>\n",
       "      <td>120</td>\n",
       "      <td>1200</td>\n",
       "    </tr>\n",
       "  </tbody>\n",
       "</table>\n",
       "</div>"
      ],
      "text/plain": [
       "    A    B     C\n",
       "0   1   10   100\n",
       "1   2   20   200\n",
       "2   3   30   300\n",
       "3   4   40   400\n",
       "0   5   50   500\n",
       "1   6   60   600\n",
       "2   7   70   700\n",
       "3   8   80   800\n",
       "0   9   90   900\n",
       "1  10  100  1000\n",
       "2  11  110  1100\n",
       "3  12  120  1200"
      ]
     },
     "execution_count": 34,
     "metadata": {},
     "output_type": "execute_result"
    }
   ],
   "source": [
    "big_df = pd.concat([df1, df2, df3], axis=0)\n",
    "big_df"
   ]
  },
  {
   "cell_type": "code",
   "execution_count": 35,
   "id": "fd4e6952-9e4a-4479-a10f-c331ad634d47",
   "metadata": {
    "tags": []
   },
   "outputs": [],
   "source": [
    "df1 = pd.DataFrame({'A': [1,2,3,4],\n",
    "                    'B': [10,20,30,40],\n",
    "                    'C': [100,200,300,400]})\n",
    "df2 = pd.DataFrame({'C': [100,200,300,400],\n",
    "                    'D': [5,6,7,8],\n",
    "                    'E': [50,60,70,80]})\n"
   ]
  },
  {
   "cell_type": "code",
   "execution_count": 36,
   "id": "78e69324-834b-47b9-8b63-6839ba5caba4",
   "metadata": {
    "tags": []
   },
   "outputs": [
    {
     "data": {
      "text/html": [
       "<div>\n",
       "<style scoped>\n",
       "    .dataframe tbody tr th:only-of-type {\n",
       "        vertical-align: middle;\n",
       "    }\n",
       "\n",
       "    .dataframe tbody tr th {\n",
       "        vertical-align: top;\n",
       "    }\n",
       "\n",
       "    .dataframe thead th {\n",
       "        text-align: right;\n",
       "    }\n",
       "</style>\n",
       "<table border=\"1\" class=\"dataframe\">\n",
       "  <thead>\n",
       "    <tr style=\"text-align: right;\">\n",
       "      <th></th>\n",
       "      <th>A</th>\n",
       "      <th>B</th>\n",
       "      <th>C</th>\n",
       "      <th>C</th>\n",
       "      <th>D</th>\n",
       "      <th>E</th>\n",
       "    </tr>\n",
       "  </thead>\n",
       "  <tbody>\n",
       "    <tr>\n",
       "      <th>0</th>\n",
       "      <td>1</td>\n",
       "      <td>10</td>\n",
       "      <td>100</td>\n",
       "      <td>100</td>\n",
       "      <td>5</td>\n",
       "      <td>50</td>\n",
       "    </tr>\n",
       "    <tr>\n",
       "      <th>1</th>\n",
       "      <td>2</td>\n",
       "      <td>20</td>\n",
       "      <td>200</td>\n",
       "      <td>200</td>\n",
       "      <td>6</td>\n",
       "      <td>60</td>\n",
       "    </tr>\n",
       "    <tr>\n",
       "      <th>2</th>\n",
       "      <td>3</td>\n",
       "      <td>30</td>\n",
       "      <td>300</td>\n",
       "      <td>300</td>\n",
       "      <td>7</td>\n",
       "      <td>70</td>\n",
       "    </tr>\n",
       "    <tr>\n",
       "      <th>3</th>\n",
       "      <td>4</td>\n",
       "      <td>40</td>\n",
       "      <td>400</td>\n",
       "      <td>400</td>\n",
       "      <td>8</td>\n",
       "      <td>80</td>\n",
       "    </tr>\n",
       "  </tbody>\n",
       "</table>\n",
       "</div>"
      ],
      "text/plain": [
       "   A   B    C    C  D   E\n",
       "0  1  10  100  100  5  50\n",
       "1  2  20  200  200  6  60\n",
       "2  3  30  300  300  7  70\n",
       "3  4  40  400  400  8  80"
      ]
     },
     "execution_count": 36,
     "metadata": {},
     "output_type": "execute_result"
    }
   ],
   "source": [
    "pd.concat([df1,df2], axis=1)"
   ]
  },
  {
   "cell_type": "code",
   "execution_count": 37,
   "id": "44dcf0b8-d55d-4a84-983a-586bfefcd426",
   "metadata": {
    "tags": []
   },
   "outputs": [
    {
     "data": {
      "text/html": [
       "<div>\n",
       "<style scoped>\n",
       "    .dataframe tbody tr th:only-of-type {\n",
       "        vertical-align: middle;\n",
       "    }\n",
       "\n",
       "    .dataframe tbody tr th {\n",
       "        vertical-align: top;\n",
       "    }\n",
       "\n",
       "    .dataframe thead th {\n",
       "        text-align: right;\n",
       "    }\n",
       "</style>\n",
       "<table border=\"1\" class=\"dataframe\">\n",
       "  <thead>\n",
       "    <tr style=\"text-align: right;\">\n",
       "      <th></th>\n",
       "      <th>A</th>\n",
       "      <th>B</th>\n",
       "      <th>C</th>\n",
       "      <th>D</th>\n",
       "      <th>E</th>\n",
       "    </tr>\n",
       "  </thead>\n",
       "  <tbody>\n",
       "    <tr>\n",
       "      <th>0</th>\n",
       "      <td>1</td>\n",
       "      <td>10</td>\n",
       "      <td>100</td>\n",
       "      <td>5</td>\n",
       "      <td>50</td>\n",
       "    </tr>\n",
       "    <tr>\n",
       "      <th>1</th>\n",
       "      <td>2</td>\n",
       "      <td>20</td>\n",
       "      <td>200</td>\n",
       "      <td>6</td>\n",
       "      <td>60</td>\n",
       "    </tr>\n",
       "    <tr>\n",
       "      <th>2</th>\n",
       "      <td>3</td>\n",
       "      <td>30</td>\n",
       "      <td>300</td>\n",
       "      <td>7</td>\n",
       "      <td>70</td>\n",
       "    </tr>\n",
       "    <tr>\n",
       "      <th>3</th>\n",
       "      <td>4</td>\n",
       "      <td>40</td>\n",
       "      <td>400</td>\n",
       "      <td>8</td>\n",
       "      <td>80</td>\n",
       "    </tr>\n",
       "  </tbody>\n",
       "</table>\n",
       "</div>"
      ],
      "text/plain": [
       "   A   B    C  D   E\n",
       "0  1  10  100  5  50\n",
       "1  2  20  200  6  60\n",
       "2  3  30  300  7  70\n",
       "3  4  40  400  8  80"
      ]
     },
     "execution_count": 37,
     "metadata": {},
     "output_type": "execute_result"
    }
   ],
   "source": [
    "pd.merge(df1,df2)"
   ]
  },
  {
   "cell_type": "markdown",
   "id": "8f41766b-84be-4e4c-b108-066e0415b8e4",
   "metadata": {
    "tags": []
   },
   "source": [
    "### 2.6 Unique Values"
   ]
  },
  {
   "cell_type": "code",
   "execution_count": 38,
   "id": "6b492f8c-6735-4de9-8871-fc9627ee264d",
   "metadata": {
    "tags": []
   },
   "outputs": [
    {
     "data": {
      "text/html": [
       "<div>\n",
       "<style scoped>\n",
       "    .dataframe tbody tr th:only-of-type {\n",
       "        vertical-align: middle;\n",
       "    }\n",
       "\n",
       "    .dataframe tbody tr th {\n",
       "        vertical-align: top;\n",
       "    }\n",
       "\n",
       "    .dataframe thead th {\n",
       "        text-align: right;\n",
       "    }\n",
       "</style>\n",
       "<table border=\"1\" class=\"dataframe\">\n",
       "  <thead>\n",
       "    <tr style=\"text-align: right;\">\n",
       "      <th></th>\n",
       "      <th>a</th>\n",
       "      <th>b</th>\n",
       "      <th>c</th>\n",
       "    </tr>\n",
       "  </thead>\n",
       "  <tbody>\n",
       "    <tr>\n",
       "      <th>0</th>\n",
       "      <td>1</td>\n",
       "      <td>5</td>\n",
       "      <td>6</td>\n",
       "    </tr>\n",
       "    <tr>\n",
       "      <th>1</th>\n",
       "      <td>2</td>\n",
       "      <td>5</td>\n",
       "      <td>7</td>\n",
       "    </tr>\n",
       "    <tr>\n",
       "      <th>2</th>\n",
       "      <td>3</td>\n",
       "      <td>5</td>\n",
       "      <td>8</td>\n",
       "    </tr>\n",
       "    <tr>\n",
       "      <th>3</th>\n",
       "      <td>4</td>\n",
       "      <td>5</td>\n",
       "      <td>9</td>\n",
       "    </tr>\n",
       "  </tbody>\n",
       "</table>\n",
       "</div>"
      ],
      "text/plain": [
       "   a  b  c\n",
       "0  1  5  6\n",
       "1  2  5  7\n",
       "2  3  5  8\n",
       "3  4  5  9"
      ]
     },
     "execution_count": 38,
     "metadata": {},
     "output_type": "execute_result"
    }
   ],
   "source": [
    "df = pd.DataFrame({'a': [1,2,3,4],\n",
    "                    'b': [5,5,5,5],\n",
    "                    'c': [6,7,8,9]})\n",
    "df"
   ]
  },
  {
   "cell_type": "code",
   "execution_count": 39,
   "id": "d868f127-8b85-47d2-b538-fd8c04b56c1f",
   "metadata": {
    "tags": []
   },
   "outputs": [
    {
     "data": {
      "text/plain": [
       "4"
      ]
     },
     "execution_count": 39,
     "metadata": {},
     "output_type": "execute_result"
    }
   ],
   "source": [
    "df.loc[:, 'c'].nunique()"
   ]
  },
  {
   "cell_type": "code",
   "execution_count": 40,
   "id": "2cba7824-aa86-46cc-80b0-27ad1b311d05",
   "metadata": {
    "tags": []
   },
   "outputs": [
    {
     "data": {
      "text/plain": [
       "6    1\n",
       "7    1\n",
       "8    1\n",
       "9    1\n",
       "Name: c, dtype: int64"
      ]
     },
     "execution_count": 40,
     "metadata": {},
     "output_type": "execute_result"
    }
   ],
   "source": [
    "df['c'].value_counts()"
   ]
  },
  {
   "cell_type": "code",
   "execution_count": 41,
   "id": "2b3fcf17-f513-4a16-82e7-ecf0f6e46086",
   "metadata": {
    "tags": []
   },
   "outputs": [
    {
     "data": {
      "text/plain": [
       "4"
      ]
     },
     "execution_count": 41,
     "metadata": {},
     "output_type": "execute_result"
    }
   ],
   "source": [
    "df.loc[:, 'c'].nunique()"
   ]
  },
  {
   "cell_type": "code",
   "execution_count": 42,
   "id": "0418db8b-9ab4-4c73-94ef-4e56831d46ad",
   "metadata": {
    "tags": []
   },
   "outputs": [
    {
     "data": {
      "text/plain": [
       "a    4\n",
       "b    1\n",
       "c    4\n",
       "dtype: int64"
      ]
     },
     "execution_count": 42,
     "metadata": {},
     "output_type": "execute_result"
    }
   ],
   "source": [
    "df.nunique()"
   ]
  },
  {
   "cell_type": "markdown",
   "id": "2327fcd6-9433-4734-8438-38422591103a",
   "metadata": {
    "tags": []
   },
   "source": [
    "### 2.7 Functions"
   ]
  },
  {
   "cell_type": "code",
   "execution_count": 43,
   "id": "8fca461f-d4d3-4524-949a-9c8552437de3",
   "metadata": {
    "tags": []
   },
   "outputs": [],
   "source": [
    "def multiplyThree(x):\n",
    "    return x*3"
   ]
  },
  {
   "cell_type": "code",
   "execution_count": 44,
   "id": "51b5e335-9034-4399-b46b-4d73a9e31baf",
   "metadata": {
    "tags": []
   },
   "outputs": [
    {
     "data": {
      "text/html": [
       "<div>\n",
       "<style scoped>\n",
       "    .dataframe tbody tr th:only-of-type {\n",
       "        vertical-align: middle;\n",
       "    }\n",
       "\n",
       "    .dataframe tbody tr th {\n",
       "        vertical-align: top;\n",
       "    }\n",
       "\n",
       "    .dataframe thead th {\n",
       "        text-align: right;\n",
       "    }\n",
       "</style>\n",
       "<table border=\"1\" class=\"dataframe\">\n",
       "  <thead>\n",
       "    <tr style=\"text-align: right;\">\n",
       "      <th></th>\n",
       "      <th>a</th>\n",
       "      <th>b</th>\n",
       "      <th>c</th>\n",
       "    </tr>\n",
       "  </thead>\n",
       "  <tbody>\n",
       "    <tr>\n",
       "      <th>0</th>\n",
       "      <td>3</td>\n",
       "      <td>15</td>\n",
       "      <td>18</td>\n",
       "    </tr>\n",
       "    <tr>\n",
       "      <th>1</th>\n",
       "      <td>6</td>\n",
       "      <td>15</td>\n",
       "      <td>21</td>\n",
       "    </tr>\n",
       "    <tr>\n",
       "      <th>2</th>\n",
       "      <td>9</td>\n",
       "      <td>15</td>\n",
       "      <td>24</td>\n",
       "    </tr>\n",
       "    <tr>\n",
       "      <th>3</th>\n",
       "      <td>12</td>\n",
       "      <td>15</td>\n",
       "      <td>27</td>\n",
       "    </tr>\n",
       "  </tbody>\n",
       "</table>\n",
       "</div>"
      ],
      "text/plain": [
       "    a   b   c\n",
       "0   3  15  18\n",
       "1   6  15  21\n",
       "2   9  15  24\n",
       "3  12  15  27"
      ]
     },
     "execution_count": 44,
     "metadata": {},
     "output_type": "execute_result"
    }
   ],
   "source": [
    "multiplyThree(df)"
   ]
  },
  {
   "cell_type": "code",
   "execution_count": 45,
   "id": "21ac3cdb-988b-4f49-95f2-2b22df364c08",
   "metadata": {
    "tags": []
   },
   "outputs": [
    {
     "data": {
      "text/plain": [
       "0    18\n",
       "1    21\n",
       "2    24\n",
       "3    27\n",
       "Name: c, dtype: int64"
      ]
     },
     "execution_count": 45,
     "metadata": {},
     "output_type": "execute_result"
    }
   ],
   "source": [
    "multiplyThree(df['c'])"
   ]
  },
  {
   "cell_type": "code",
   "execution_count": 46,
   "id": "c0ddb921-e842-4f14-b64c-4b70acbf7068",
   "metadata": {
    "tags": []
   },
   "outputs": [
    {
     "data": {
      "text/html": [
       "<div>\n",
       "<style scoped>\n",
       "    .dataframe tbody tr th:only-of-type {\n",
       "        vertical-align: middle;\n",
       "    }\n",
       "\n",
       "    .dataframe tbody tr th {\n",
       "        vertical-align: top;\n",
       "    }\n",
       "\n",
       "    .dataframe thead th {\n",
       "        text-align: right;\n",
       "    }\n",
       "</style>\n",
       "<table border=\"1\" class=\"dataframe\">\n",
       "  <thead>\n",
       "    <tr style=\"text-align: right;\">\n",
       "      <th></th>\n",
       "      <th>a</th>\n",
       "      <th>b</th>\n",
       "      <th>c</th>\n",
       "    </tr>\n",
       "  </thead>\n",
       "  <tbody>\n",
       "    <tr>\n",
       "      <th>0</th>\n",
       "      <td>3</td>\n",
       "      <td>15</td>\n",
       "      <td>18</td>\n",
       "    </tr>\n",
       "    <tr>\n",
       "      <th>1</th>\n",
       "      <td>6</td>\n",
       "      <td>15</td>\n",
       "      <td>21</td>\n",
       "    </tr>\n",
       "    <tr>\n",
       "      <th>2</th>\n",
       "      <td>9</td>\n",
       "      <td>15</td>\n",
       "      <td>24</td>\n",
       "    </tr>\n",
       "    <tr>\n",
       "      <th>3</th>\n",
       "      <td>12</td>\n",
       "      <td>15</td>\n",
       "      <td>27</td>\n",
       "    </tr>\n",
       "  </tbody>\n",
       "</table>\n",
       "</div>"
      ],
      "text/plain": [
       "    a   b   c\n",
       "0   3  15  18\n",
       "1   6  15  21\n",
       "2   9  15  24\n",
       "3  12  15  27"
      ]
     },
     "execution_count": 46,
     "metadata": {},
     "output_type": "execute_result"
    }
   ],
   "source": [
    "df.apply(multiplyThree)"
   ]
  },
  {
   "cell_type": "code",
   "execution_count": 47,
   "id": "6fee8090-600a-44e3-8bf7-7951e47de87e",
   "metadata": {
    "tags": []
   },
   "outputs": [
    {
     "data": {
      "text/plain": [
       "0    26\n",
       "1    26\n",
       "2    26\n",
       "3    26\n",
       "Name: b, dtype: int64"
      ]
     },
     "execution_count": 47,
     "metadata": {},
     "output_type": "execute_result"
    }
   ],
   "source": [
    "df['b'].apply(lambda x:x**2 + 1)"
   ]
  },
  {
   "cell_type": "markdown",
   "id": "37444397-f969-4e1d-8ce0-0f4df4f1456d",
   "metadata": {
    "tags": []
   },
   "source": [
    "### 2.8 Removing Rows/Columns"
   ]
  },
  {
   "cell_type": "code",
   "execution_count": 48,
   "id": "a8d40a8d-901c-46fa-99f7-af3c7890fc6d",
   "metadata": {
    "tags": []
   },
   "outputs": [
    {
     "data": {
      "text/html": [
       "<div>\n",
       "<style scoped>\n",
       "    .dataframe tbody tr th:only-of-type {\n",
       "        vertical-align: middle;\n",
       "    }\n",
       "\n",
       "    .dataframe tbody tr th {\n",
       "        vertical-align: top;\n",
       "    }\n",
       "\n",
       "    .dataframe thead th {\n",
       "        text-align: right;\n",
       "    }\n",
       "</style>\n",
       "<table border=\"1\" class=\"dataframe\">\n",
       "  <thead>\n",
       "    <tr style=\"text-align: right;\">\n",
       "      <th></th>\n",
       "      <th>a</th>\n",
       "      <th>c</th>\n",
       "    </tr>\n",
       "  </thead>\n",
       "  <tbody>\n",
       "    <tr>\n",
       "      <th>0</th>\n",
       "      <td>1</td>\n",
       "      <td>6</td>\n",
       "    </tr>\n",
       "    <tr>\n",
       "      <th>1</th>\n",
       "      <td>2</td>\n",
       "      <td>7</td>\n",
       "    </tr>\n",
       "    <tr>\n",
       "      <th>2</th>\n",
       "      <td>3</td>\n",
       "      <td>8</td>\n",
       "    </tr>\n",
       "    <tr>\n",
       "      <th>3</th>\n",
       "      <td>4</td>\n",
       "      <td>9</td>\n",
       "    </tr>\n",
       "  </tbody>\n",
       "</table>\n",
       "</div>"
      ],
      "text/plain": [
       "   a  c\n",
       "0  1  6\n",
       "1  2  7\n",
       "2  3  8\n",
       "3  4  9"
      ]
     },
     "execution_count": 48,
     "metadata": {},
     "output_type": "execute_result"
    }
   ],
   "source": [
    "df.drop('b', axis=1)"
   ]
  },
  {
   "cell_type": "code",
   "execution_count": 49,
   "id": "0137ec0f-67f0-4389-8563-2073f6d9892b",
   "metadata": {
    "tags": []
   },
   "outputs": [
    {
     "data": {
      "text/html": [
       "<div>\n",
       "<style scoped>\n",
       "    .dataframe tbody tr th:only-of-type {\n",
       "        vertical-align: middle;\n",
       "    }\n",
       "\n",
       "    .dataframe tbody tr th {\n",
       "        vertical-align: top;\n",
       "    }\n",
       "\n",
       "    .dataframe thead th {\n",
       "        text-align: right;\n",
       "    }\n",
       "</style>\n",
       "<table border=\"1\" class=\"dataframe\">\n",
       "  <thead>\n",
       "    <tr style=\"text-align: right;\">\n",
       "      <th></th>\n",
       "      <th>a</th>\n",
       "      <th>b</th>\n",
       "      <th>c</th>\n",
       "    </tr>\n",
       "  </thead>\n",
       "  <tbody>\n",
       "    <tr>\n",
       "      <th>0</th>\n",
       "      <td>1</td>\n",
       "      <td>5</td>\n",
       "      <td>6</td>\n",
       "    </tr>\n",
       "    <tr>\n",
       "      <th>1</th>\n",
       "      <td>2</td>\n",
       "      <td>5</td>\n",
       "      <td>7</td>\n",
       "    </tr>\n",
       "    <tr>\n",
       "      <th>2</th>\n",
       "      <td>3</td>\n",
       "      <td>5</td>\n",
       "      <td>8</td>\n",
       "    </tr>\n",
       "  </tbody>\n",
       "</table>\n",
       "</div>"
      ],
      "text/plain": [
       "   a  b  c\n",
       "0  1  5  6\n",
       "1  2  5  7\n",
       "2  3  5  8"
      ]
     },
     "execution_count": 49,
     "metadata": {},
     "output_type": "execute_result"
    }
   ],
   "source": [
    "df.drop(3)"
   ]
  },
  {
   "cell_type": "code",
   "execution_count": 50,
   "id": "40d0bbdd-e2f3-4f2a-ba33-d546744093fd",
   "metadata": {
    "tags": []
   },
   "outputs": [
    {
     "data": {
      "text/html": [
       "<div>\n",
       "<style scoped>\n",
       "    .dataframe tbody tr th:only-of-type {\n",
       "        vertical-align: middle;\n",
       "    }\n",
       "\n",
       "    .dataframe tbody tr th {\n",
       "        vertical-align: top;\n",
       "    }\n",
       "\n",
       "    .dataframe thead th {\n",
       "        text-align: right;\n",
       "    }\n",
       "</style>\n",
       "<table border=\"1\" class=\"dataframe\">\n",
       "  <thead>\n",
       "    <tr style=\"text-align: right;\">\n",
       "      <th></th>\n",
       "      <th>a</th>\n",
       "      <th>b</th>\n",
       "    </tr>\n",
       "  </thead>\n",
       "  <tbody>\n",
       "    <tr>\n",
       "      <th>0</th>\n",
       "      <td>1</td>\n",
       "      <td>5</td>\n",
       "    </tr>\n",
       "    <tr>\n",
       "      <th>1</th>\n",
       "      <td>2</td>\n",
       "      <td>5</td>\n",
       "    </tr>\n",
       "    <tr>\n",
       "      <th>2</th>\n",
       "      <td>3</td>\n",
       "      <td>5</td>\n",
       "    </tr>\n",
       "    <tr>\n",
       "      <th>3</th>\n",
       "      <td>4</td>\n",
       "      <td>5</td>\n",
       "    </tr>\n",
       "  </tbody>\n",
       "</table>\n",
       "</div>"
      ],
      "text/plain": [
       "   a  b\n",
       "0  1  5\n",
       "1  2  5\n",
       "2  3  5\n",
       "3  4  5"
      ]
     },
     "execution_count": 50,
     "metadata": {},
     "output_type": "execute_result"
    }
   ],
   "source": [
    "df.drop('c', axis=1, inplace=True)\n",
    "df"
   ]
  },
  {
   "cell_type": "markdown",
   "id": "82868f9b-06b1-4e1d-be81-d260c9928f3a",
   "metadata": {
    "tags": []
   },
   "source": [
    "### 2.9 Visualization"
   ]
  },
  {
   "cell_type": "code",
   "execution_count": 122,
   "id": "eeb07f2b-2b01-462c-9a95-d194b461a7bb",
   "metadata": {
    "tags": []
   },
   "outputs": [],
   "source": [
    "df = pd.DataFrame(np.random.rand(100,2), columns=['A', 'B'])"
   ]
  },
  {
   "cell_type": "code",
   "execution_count": 123,
   "id": "655c484d-5ff9-4fb0-9bd0-44bd2497d06e",
   "metadata": {
    "tags": []
   },
   "outputs": [
    {
     "data": {
      "image/png": "[encoded data removed]",
      "text/plain": [
       "<Figure size 1000x500 with 1 Axes>"
      ]
     },
     "metadata": {},
     "output_type": "display_data"
    }
   ],
   "source": [
    "import matplotlib as mpl\n",
    "import matplotlib.pyplot as plt\n",
    "%matplotlib inline\n",
    "\n",
    "plt.figure(figsize=(10,5))\n",
    "plt.plot(df['A'], linestyle='--', color='blue', linewidth=1, marker='.', \n",
    "             markersize=10, markerfacecolor='yellow');"
   ]
  },
  {
   "cell_type": "code",
   "execution_count": 124,
   "id": "aaffaccb-9c3a-4431-a9c0-9bb044b7c3c1",
   "metadata": {
    "tags": []
   },
   "outputs": [
    {
     "data": {
      "image/png": "[encoded data removed]",
      "text/plain": [
       "<Figure size 800x400 with 1 Axes>"
      ]
     },
     "metadata": {},
     "output_type": "display_data"
    }
   ],
   "source": [
    "df2 = pd.DataFrame(np.random.randn(100,2))\n",
    "plt.figure(figsize=(8,4))\n",
    "plt.hist([df2[1], df['A']], bins=50);\n",
    "plt.grid()"
   ]
  },
  {
   "cell_type": "code",
   "execution_count": 134,
   "id": "c0d08a7f-ca46-40a0-a9e8-38a296e057b1",
   "metadata": {
    "tags": []
   },
   "outputs": [
    {
     "data": {
      "image/png": "[encoded data removed]",
      "text/plain": [
       "<Figure size 1000x400 with 1 Axes>"
      ]
     },
     "metadata": {},
     "output_type": "display_data"
    }
   ],
   "source": [
    "plt.figure(figsize=(10,4))\n",
    "plt.plot('A', data=df)\n",
    "plt.plot('B', data=df)\n",
    "plt.legend()\n",
    "plt.grid()\n",
    "plt.show();"
   ]
  },
  {
   "cell_type": "code",
   "execution_count": 137,
   "id": "2ee2a2ca-6f55-4972-b2e5-bf20654a64e3",
   "metadata": {
    "tags": []
   },
   "outputs": [
    {
     "data": {
      "image/png": "[encoded data removed]",
      "text/plain": [
       "<Figure size 1000x400 with 1 Axes>"
      ]
     },
     "metadata": {},
     "output_type": "display_data"
    }
   ],
   "source": [
    "plt.figure(figsize=(10,4))\n",
    "plt.boxplot(df);"
   ]
  },
  {
   "cell_type": "code",
   "execution_count": 143,
   "id": "11fefead-a892-4234-8211-e6b923e67bbd",
   "metadata": {
    "tags": []
   },
   "outputs": [
    {
     "data": {
      "image/png": "[encoded data removed]",
      "text/plain": [
       "<Figure size 640x480 with 1 Axes>"
      ]
     },
     "metadata": {},
     "output_type": "display_data"
    }
   ],
   "source": [
    "df.plot.area();"
   ]
  },
  {
   "cell_type": "markdown",
   "id": "48bb45b5-2de3-45e9-aca0-30f9db812979",
   "metadata": {},
   "source": [
    "# Numpy Recap"
   ]
  },
  {
   "cell_type": "markdown",
   "id": "e93aabc1-6f0b-4eb6-839a-431619e25a89",
   "metadata": {
    "tags": []
   },
   "source": [
    "### 1. Numpy Basics"
   ]
  },
  {
   "cell_type": "code",
   "execution_count": 148,
   "id": "004a0008-3d9a-48b5-8272-c2480fb235eb",
   "metadata": {
    "tags": []
   },
   "outputs": [
    {
     "data": {
      "text/plain": [
       "array([1, 2, 3, 4, 5])"
      ]
     },
     "execution_count": 148,
     "metadata": {},
     "output_type": "execute_result"
    }
   ],
   "source": [
    "a = np.array([1,2,3,4,5])\n",
    "a"
   ]
  },
  {
   "cell_type": "code",
   "execution_count": 149,
   "id": "75e6c875-597e-4f83-9e42-06cb7ef3b2b9",
   "metadata": {
    "tags": []
   },
   "outputs": [
    {
     "data": {
      "text/plain": [
       "numpy.ndarray"
      ]
     },
     "execution_count": 149,
     "metadata": {},
     "output_type": "execute_result"
    }
   ],
   "source": [
    "type(a)"
   ]
  },
  {
   "cell_type": "code",
   "execution_count": 152,
   "id": "b9b28949-0e8a-4cb6-be48-8fb57febe419",
   "metadata": {
    "tags": []
   },
   "outputs": [
    {
     "data": {
      "text/plain": [
       "array([1, 2])"
      ]
     },
     "execution_count": 152,
     "metadata": {},
     "output_type": "execute_result"
    }
   ],
   "source": [
    "a[:2]"
   ]
  },
  {
   "cell_type": "code",
   "execution_count": 153,
   "id": "c3a383c6-83ca-4533-b9c4-a2bb487f5356",
   "metadata": {
    "tags": []
   },
   "outputs": [
    {
     "data": {
      "text/plain": [
       "(5,)"
      ]
     },
     "execution_count": 153,
     "metadata": {},
     "output_type": "execute_result"
    }
   ],
   "source": [
    "a.shape"
   ]
  },
  {
   "cell_type": "code",
   "execution_count": 207,
   "id": "2e718a97-28e1-4956-89e4-ad1e8a1e1885",
   "metadata": {
    "tags": []
   },
   "outputs": [],
   "source": [
    "A = np.array([[1,2,3,4], [5,6,7,8], [9,10,11,12]])\n",
    "A = A.astype(int)"
   ]
  },
  {
   "cell_type": "code",
   "execution_count": 208,
   "id": "0d09a8d8-26b0-4b7a-ad74-933b92336005",
   "metadata": {
    "tags": []
   },
   "outputs": [
    {
     "data": {
      "text/plain": [
       "(3, 4)"
      ]
     },
     "execution_count": 208,
     "metadata": {},
     "output_type": "execute_result"
    }
   ],
   "source": [
    "A.shape"
   ]
  },
  {
   "cell_type": "code",
   "execution_count": 209,
   "id": "de49d30d-9d35-464b-80d6-11dadf565ed0",
   "metadata": {
    "tags": []
   },
   "outputs": [
    {
     "data": {
      "text/plain": [
       "12"
      ]
     },
     "execution_count": 209,
     "metadata": {},
     "output_type": "execute_result"
    }
   ],
   "source": [
    "A[2,3]"
   ]
  },
  {
   "cell_type": "code",
   "execution_count": 210,
   "id": "44fc4f80-8c79-4cf5-b41f-7c6de73d70e7",
   "metadata": {
    "tags": []
   },
   "outputs": [
    {
     "data": {
      "text/plain": [
       "array([[ 6,  7],\n",
       "       [10, 11]])"
      ]
     },
     "execution_count": 210,
     "metadata": {},
     "output_type": "execute_result"
    }
   ],
   "source": [
    "A[1:, 1:3]"
   ]
  },
  {
   "cell_type": "code",
   "execution_count": 212,
   "id": "dda1827a-0fc4-41ee-a1a9-33355630dcb4",
   "metadata": {
    "tags": []
   },
   "outputs": [
    {
     "data": {
      "text/plain": [
       "array([[  1,   2,   3,   4],\n",
       "       [  5,   6,   7,   8],\n",
       "       [  9,  10,  11, 250]])"
      ]
     },
     "execution_count": 212,
     "metadata": {},
     "output_type": "execute_result"
    }
   ],
   "source": [
    "A[2,3] = 250\n",
    "A"
   ]
  },
  {
   "cell_type": "code",
   "execution_count": 182,
   "id": "2efeeeb5-c901-4e63-a063-c889c719d041",
   "metadata": {
    "tags": []
   },
   "outputs": [
    {
     "data": {
      "text/plain": [
       "array([[1., 0.],\n",
       "       [0., 1.]])"
      ]
     },
     "execution_count": 182,
     "metadata": {},
     "output_type": "execute_result"
    }
   ],
   "source": [
    "I = np.eye(2)\n",
    "I"
   ]
  },
  {
   "cell_type": "code",
   "execution_count": 188,
   "id": "4ceee5cb-75ce-4cc7-b6fd-b59fadec2632",
   "metadata": {
    "tags": []
   },
   "outputs": [
    {
     "data": {
      "text/plain": [
       "array([[0., 0., 0., 0., 0.],\n",
       "       [0., 0., 0., 0., 0.],\n",
       "       [0., 0., 0., 0., 0.],\n",
       "       [0., 0., 0., 0., 0.],\n",
       "       [0., 0., 0., 0., 0.]])"
      ]
     },
     "execution_count": 188,
     "metadata": {},
     "output_type": "execute_result"
    }
   ],
   "source": [
    "np.zeros((5,5))"
   ]
  },
  {
   "cell_type": "code",
   "execution_count": 189,
   "id": "debb352f-2809-4c98-a0fa-051af68b493b",
   "metadata": {
    "tags": []
   },
   "outputs": [
    {
     "data": {
      "text/plain": [
       "array([[1., 1., 1., 1.],\n",
       "       [1., 1., 1., 1.],\n",
       "       [1., 1., 1., 1.]])"
      ]
     },
     "execution_count": 189,
     "metadata": {},
     "output_type": "execute_result"
    }
   ],
   "source": [
    "np.ones((3,4))"
   ]
  },
  {
   "cell_type": "code",
   "execution_count": 197,
   "id": "f462bc48-11c3-4c1a-af80-6030e26e2eaf",
   "metadata": {
    "tags": []
   },
   "outputs": [
    {
     "data": {
      "text/plain": [
       "array([[nan, nan, nan, nan, nan],\n",
       "       [nan, nan, nan, nan, nan],\n",
       "       [nan, nan, nan, nan, nan],\n",
       "       [nan, nan, nan, nan, nan],\n",
       "       [nan, nan, nan, nan, nan]])"
      ]
     },
     "execution_count": 197,
     "metadata": {},
     "output_type": "execute_result"
    }
   ],
   "source": [
    "C = np.full((5,5), np.nan)\n",
    "C"
   ]
  },
  {
   "cell_type": "code",
   "execution_count": 203,
   "id": "3b8a2616-b7dd-4d8b-959f-b6332e413a05",
   "metadata": {
    "tags": []
   },
   "outputs": [
    {
     "name": "stdout",
     "output_type": "stream",
     "text": [
      "[[0.32713278]\n",
      " [0.30479682]\n",
      " [0.96565883]\n",
      " ...\n",
      " [0.71431065]\n",
      " [0.72525374]\n",
      " [0.62648713]]\n",
      "\n",
      "Mean and std\n",
      "0.5010708348218337\n",
      "0.08358617272643504\n"
     ]
    }
   ],
   "source": [
    "X = np.random.random((100000,1)) # uniform distribution\n",
    "print(X)\n",
    "print()\n",
    "print('Mean and std')\n",
    "print(np.mean(X)) # should be 0.5 \n",
    "print(np.std(X)**2) # should be close to 1/12"
   ]
  },
  {
   "cell_type": "code",
   "execution_count": 213,
   "id": "b092b439-d075-4467-909f-1b9497822779",
   "metadata": {
    "tags": []
   },
   "outputs": [
    {
     "data": {
      "text/plain": [
       "dtype('int64')"
      ]
     },
     "execution_count": 213,
     "metadata": {},
     "output_type": "execute_result"
    }
   ],
   "source": [
    "A.dtype"
   ]
  },
  {
   "cell_type": "markdown",
   "id": "904cbe21-acf3-4d64-b403-810319875aa2",
   "metadata": {
    "tags": []
   },
   "source": [
    "### 2. Basic Arithmetic Operations"
   ]
  },
  {
   "cell_type": "code",
   "execution_count": 233,
   "id": "b08a2e16-3d67-4d30-9701-0f910d0cc7c3",
   "metadata": {
    "tags": []
   },
   "outputs": [],
   "source": [
    "A = np.array([[1,5,6], [1,8,9], [1,-1,6]])\n",
    "B = np.array([[4,8,4], [1,1,5], [6,-8,4]])"
   ]
  },
  {
   "cell_type": "code",
   "execution_count": 234,
   "id": "dc2031a6-ca44-493f-8b17-4522ba515c45",
   "metadata": {
    "tags": []
   },
   "outputs": [
    {
     "data": {
      "text/plain": [
       "array([[ 1,  5,  6],\n",
       "       [ 1,  8,  9],\n",
       "       [ 1, -1,  6]])"
      ]
     },
     "execution_count": 234,
     "metadata": {},
     "output_type": "execute_result"
    }
   ],
   "source": [
    "A"
   ]
  },
  {
   "cell_type": "code",
   "execution_count": 235,
   "id": "485cc318-77bf-4aed-8d0e-20443dacca04",
   "metadata": {
    "tags": []
   },
   "outputs": [
    {
     "data": {
      "text/plain": [
       "array([[ 4,  8,  4],\n",
       "       [ 1,  1,  5],\n",
       "       [ 6, -8,  4]])"
      ]
     },
     "execution_count": 235,
     "metadata": {},
     "output_type": "execute_result"
    }
   ],
   "source": [
    "B"
   ]
  },
  {
   "cell_type": "code",
   "execution_count": 236,
   "id": "69989a62-1954-423f-833b-5017a55e4cff",
   "metadata": {
    "tags": []
   },
   "outputs": [
    {
     "data": {
      "text/plain": [
       "array([[ 5., 13., 10.],\n",
       "       [ 2.,  9., 14.],\n",
       "       [ 7., -9., 10.]])"
      ]
     },
     "execution_count": 236,
     "metadata": {},
     "output_type": "execute_result"
    }
   ],
   "source": [
    "np.add(A, B, dtype=float)"
   ]
  },
  {
   "cell_type": "code",
   "execution_count": 237,
   "id": "7eed6de2-b826-412e-a304-62d95ecba0be",
   "metadata": {
    "tags": []
   },
   "outputs": [
    {
     "data": {
      "text/plain": [
       "array([[ 3.,  3., -2.],\n",
       "       [ 0., -7., -4.],\n",
       "       [ 5., -7., -2.]])"
      ]
     },
     "execution_count": 237,
     "metadata": {},
     "output_type": "execute_result"
    }
   ],
   "source": [
    "np.subtract(B, A, dtype=float)"
   ]
  },
  {
   "cell_type": "code",
   "execution_count": 238,
   "id": "605d3974-1090-4951-bd88-97d504290667",
   "metadata": {
    "tags": []
   },
   "outputs": [
    {
     "data": {
      "text/plain": [
       "array([[ 4., 40., 24.],\n",
       "       [ 1.,  8., 45.],\n",
       "       [ 6.,  8., 24.]])"
      ]
     },
     "execution_count": 238,
     "metadata": {},
     "output_type": "execute_result"
    }
   ],
   "source": [
    "np.multiply(A, B, dtype=float) # point wise multiplication"
   ]
  },
  {
   "cell_type": "code",
   "execution_count": 242,
   "id": "67e20cb1-b960-4190-9835-088886a290b0",
   "metadata": {
    "tags": []
   },
   "outputs": [
    {
     "data": {
      "text/plain": [
       "array([[0.25      , 0.625     , 1.5       ],\n",
       "       [1.        , 8.        , 1.8       ],\n",
       "       [0.16666667, 0.125     , 1.5       ]])"
      ]
     },
     "execution_count": 242,
     "metadata": {},
     "output_type": "execute_result"
    }
   ],
   "source": [
    "C = np.divide(A, B) # point wise division\n",
    "C"
   ]
  },
  {
   "cell_type": "code",
   "execution_count": 245,
   "id": "2471ec90-c77a-4fae-886a-3860b365fcd7",
   "metadata": {
    "tags": []
   },
   "outputs": [
    {
     "data": {
      "text/plain": [
       "array([[0, 0, 1],\n",
       "       [1, 8, 1],\n",
       "       [0, 0, 1]])"
      ]
     },
     "execution_count": 245,
     "metadata": {},
     "output_type": "execute_result"
    }
   ],
   "source": [
    "np.int64(C)"
   ]
  },
  {
   "cell_type": "markdown",
   "id": "4f4d0a96-5f1b-4a09-9899-672c23c72a4a",
   "metadata": {
    "tags": []
   },
   "source": [
    "### 3. Matrix Products"
   ]
  },
  {
   "cell_type": "code",
   "execution_count": 239,
   "id": "cef13be8-a199-4a37-a68e-eb62b0908fe2",
   "metadata": {
    "tags": []
   },
   "outputs": [
    {
     "data": {
      "text/plain": [
       "array([[ 45., -35.,  53.],\n",
       "       [ 66., -56.,  80.],\n",
       "       [ 39., -41.,  23.]])"
      ]
     },
     "execution_count": 239,
     "metadata": {},
     "output_type": "execute_result"
    }
   ],
   "source": [
    "np.matmul(A, B, dtype=float) # matrix multiplcation"
   ]
  },
  {
   "cell_type": "code",
   "execution_count": 250,
   "id": "f5af2ff8-943e-41d5-aa2c-15d44e843b37",
   "metadata": {
    "tags": []
   },
   "outputs": [
    {
     "data": {
      "text/plain": [
       "array([1, 1, 1])"
      ]
     },
     "execution_count": 250,
     "metadata": {},
     "output_type": "execute_result"
    }
   ],
   "source": [
    "a = A[:, 0]\n",
    "b = B[:, 0]\n",
    "\n",
    "a"
   ]
  },
  {
   "cell_type": "code",
   "execution_count": 251,
   "id": "cc7c4862-3544-4113-8e7f-b9f111f3e5be",
   "metadata": {
    "tags": []
   },
   "outputs": [
    {
     "data": {
      "text/plain": [
       "array([4, 1, 6])"
      ]
     },
     "execution_count": 251,
     "metadata": {},
     "output_type": "execute_result"
    }
   ],
   "source": [
    "b"
   ]
  },
  {
   "cell_type": "code",
   "execution_count": 252,
   "id": "ecd8e585-6fdf-47ca-8bba-c70735aa7eb0",
   "metadata": {
    "tags": []
   },
   "outputs": [
    {
     "data": {
      "text/plain": [
       "11"
      ]
     },
     "execution_count": 252,
     "metadata": {},
     "output_type": "execute_result"
    }
   ],
   "source": [
    "np.matmul(a, b)"
   ]
  },
  {
   "cell_type": "code",
   "execution_count": 254,
   "id": "6bede711-6b2e-4939-81a4-3ce14b6b09e4",
   "metadata": {
    "tags": []
   },
   "outputs": [
    {
     "data": {
      "text/plain": [
       "11"
      ]
     },
     "execution_count": 254,
     "metadata": {},
     "output_type": "execute_result"
    }
   ],
   "source": [
    "np.dot(a, b) # dot product"
   ]
  },
  {
   "cell_type": "code",
   "execution_count": 255,
   "id": "29c17f11-08e9-4b82-bd6e-d3924dd9ff67",
   "metadata": {
    "tags": []
   },
   "outputs": [
    {
     "data": {
      "text/plain": [
       "11"
      ]
     },
     "execution_count": 255,
     "metadata": {},
     "output_type": "execute_result"
    }
   ],
   "source": [
    "np.inner(a, b) # inner product"
   ]
  },
  {
   "cell_type": "code",
   "execution_count": 257,
   "id": "9f620917-122d-4cc4-98e2-1436747e86f8",
   "metadata": {
    "tags": []
   },
   "outputs": [
    {
     "data": {
      "text/plain": [
       "array([[ 12,  39,  87],\n",
       "       [ 18,  60, 132],\n",
       "       [  6,  -9,  33]])"
      ]
     },
     "execution_count": 257,
     "metadata": {},
     "output_type": "execute_result"
    }
   ],
   "source": [
    "np.matmul(A, A)"
   ]
  },
  {
   "cell_type": "code",
   "execution_count": 259,
   "id": "f5ffa7f5-2f84-40d6-8b6c-863285ccd2e2",
   "metadata": {
    "tags": []
   },
   "outputs": [
    {
     "data": {
      "text/plain": [
       "array([[ 12,  39,  87],\n",
       "       [ 18,  60, 132],\n",
       "       [  6,  -9,  33]])"
      ]
     },
     "execution_count": 259,
     "metadata": {},
     "output_type": "execute_result"
    }
   ],
   "source": [
    "np.linalg.matrix_power(A, 2)"
   ]
  },
  {
   "cell_type": "markdown",
   "id": "6b5fd08b-9138-4032-8acb-96bc21a85571",
   "metadata": {
    "tags": []
   },
   "source": [
    "### 4. Matrix Decompositions"
   ]
  },
  {
   "cell_type": "markdown",
   "id": "3ed3bbf4-a678-41d5-a272-7d6a01f6f18c",
   "metadata": {},
   "source": [
    "#### QR Decomposition\n",
    "\n",
    "$$ A = QR $$\n",
    "\n",
    "where Q is a orthonomal matrix and R is an upper triangular matrix"
   ]
  },
  {
   "cell_type": "code",
   "execution_count": 260,
   "id": "f2c587f9-0ccb-4b53-965a-2d6147a34449",
   "metadata": {
    "tags": []
   },
   "outputs": [
    {
     "data": {
      "text/plain": [
       "array([[ 1,  5,  6],\n",
       "       [ 1,  8,  9],\n",
       "       [ 1, -1,  6]])"
      ]
     },
     "execution_count": 260,
     "metadata": {},
     "output_type": "execute_result"
    }
   ],
   "source": [
    "A"
   ]
  },
  {
   "cell_type": "code",
   "execution_count": 261,
   "id": "a81a4e5f-14d4-4783-b644-b7c3553e03f7",
   "metadata": {
    "tags": []
   },
   "outputs": [],
   "source": [
    "Q, R = np.linalg.qr(A)"
   ]
  },
  {
   "cell_type": "code",
   "execution_count": 262,
   "id": "0ee2599f-4be3-4489-b7b2-b109751b1928",
   "metadata": {
    "tags": []
   },
   "outputs": [
    {
     "data": {
      "text/plain": [
       "array([[-0.57735027, -0.15430335, -0.80178373],\n",
       "       [-0.57735027, -0.6172134 ,  0.53452248],\n",
       "       [-0.57735027,  0.77151675,  0.26726124]])"
      ]
     },
     "execution_count": 262,
     "metadata": {},
     "output_type": "execute_result"
    }
   ],
   "source": [
    "Q"
   ]
  },
  {
   "cell_type": "code",
   "execution_count": 263,
   "id": "0db4f0ca-c40e-49fc-9b19-0e7f0606e857",
   "metadata": {
    "tags": []
   },
   "outputs": [
    {
     "data": {
      "text/plain": [
       "array([[ -1.73205081,  -6.92820323, -12.12435565],\n",
       "       [  0.        ,  -6.4807407 ,  -1.8516402 ],\n",
       "       [  0.        ,   0.        ,   1.60356745]])"
      ]
     },
     "execution_count": 263,
     "metadata": {},
     "output_type": "execute_result"
    }
   ],
   "source": [
    "R"
   ]
  },
  {
   "cell_type": "code",
   "execution_count": 264,
   "id": "5efcad4a-f5cd-437d-9466-b8757065d844",
   "metadata": {
    "tags": []
   },
   "outputs": [
    {
     "data": {
      "text/plain": [
       "array([[ 1.,  5.,  6.],\n",
       "       [ 1.,  8.,  9.],\n",
       "       [ 1., -1.,  6.]])"
      ]
     },
     "execution_count": 264,
     "metadata": {},
     "output_type": "execute_result"
    }
   ],
   "source": [
    "np.matmul(Q, R)"
   ]
  },
  {
   "cell_type": "markdown",
   "id": "07a2248e-ff8b-4742-a7a4-922c1a49dcd0",
   "metadata": {},
   "source": [
    "#### Eigenvalue Decomposition\n",
    "\n",
    "$$ A = PDP^{-1} $$\n",
    "\n",
    "where P's columns consists of the eigenvectors of A and D is a diagonal matrix whose entries are the eigenvalues of A"
   ]
  },
  {
   "cell_type": "code",
   "execution_count": 272,
   "id": "a95ecf9c-4431-4ec6-9b37-aa72623a83e1",
   "metadata": {
    "tags": []
   },
   "outputs": [
    {
     "data": {
      "text/plain": [
       "array([[ 1,  5,  6],\n",
       "       [ 1,  8,  9],\n",
       "       [ 1, -1,  6]])"
      ]
     },
     "execution_count": 272,
     "metadata": {},
     "output_type": "execute_result"
    }
   ],
   "source": [
    "A"
   ]
  },
  {
   "cell_type": "code",
   "execution_count": 265,
   "id": "7b3d92e4-340a-43fe-bd3a-b2298651e9a6",
   "metadata": {
    "tags": []
   },
   "outputs": [],
   "source": [
    "d, P = np.linalg.eig(A)"
   ]
  },
  {
   "cell_type": "code",
   "execution_count": 266,
   "id": "35cc8132-b28a-430e-a61e-3cf0ee7c5bec",
   "metadata": {
    "tags": []
   },
   "outputs": [
    {
     "data": {
      "text/plain": [
       "array([0.32598999+0.j        , 7.33700501+1.17676556j,\n",
       "       7.33700501-1.17676556j])"
      ]
     },
     "execution_count": 266,
     "metadata": {},
     "output_type": "execute_result"
    }
   ],
   "source": [
    "d"
   ]
  },
  {
   "cell_type": "code",
   "execution_count": 267,
   "id": "47bb36a5-b7a8-4898-8e71-c4e449a6a1fb",
   "metadata": {
    "tags": []
   },
   "outputs": [
    {
     "data": {
      "text/plain": [
       "array([[-0.98472698+0.j        ,  0.53851429+0.00214369j,\n",
       "         0.53851429-0.00214369j],\n",
       "       [-0.06233426+0.j        ,  0.82690915+0.j        ,\n",
       "         0.82690915-0.j        ],\n",
       "       [ 0.16256452+0.j        , -0.1207501 +0.10788161j,\n",
       "        -0.1207501 -0.10788161j]])"
      ]
     },
     "execution_count": 267,
     "metadata": {},
     "output_type": "execute_result"
    }
   ],
   "source": [
    "P"
   ]
  },
  {
   "cell_type": "code",
   "execution_count": 269,
   "id": "280b4bea-f784-4775-9c7e-69d246abfca2",
   "metadata": {
    "tags": []
   },
   "outputs": [
    {
     "data": {
      "text/plain": [
       "array([[0.32598999+0.j        , 0.        +0.j        ,\n",
       "        0.        +0.j        ],\n",
       "       [0.        +0.j        , 7.33700501+1.17676556j,\n",
       "        0.        +0.j        ],\n",
       "       [0.        +0.j        , 0.        +0.j        ,\n",
       "        7.33700501-1.17676556j]])"
      ]
     },
     "execution_count": 269,
     "metadata": {},
     "output_type": "execute_result"
    }
   ],
   "source": [
    "D = np.diag(d)\n",
    "D"
   ]
  },
  {
   "cell_type": "code",
   "execution_count": 271,
   "id": "ae5cd0aa-09ce-4b5f-b0ca-4fcf38a682be",
   "metadata": {
    "tags": []
   },
   "outputs": [
    {
     "data": {
      "text/plain": [
       "array([[ 1.,  5.,  6.],\n",
       "       [ 1.,  8.,  9.],\n",
       "       [ 1., -1.,  6.]])"
      ]
     },
     "execution_count": 271,
     "metadata": {},
     "output_type": "execute_result"
    }
   ],
   "source": [
    "np.real(np.matmul(np.matmul(P, D), np.linalg.inv(P)))"
   ]
  },
  {
   "cell_type": "markdown",
   "id": "38865aaa-2bfb-4c43-aad9-df5c7e25cade",
   "metadata": {},
   "source": [
    "#### Singular Value Decomposition \n",
    "\n",
    "$$ A = USV^T $$"
   ]
  },
  {
   "cell_type": "code",
   "execution_count": 276,
   "id": "85b22c87-0411-45a2-885e-73b6cf89a2f7",
   "metadata": {
    "tags": []
   },
   "outputs": [
    {
     "data": {
      "text/plain": [
       "array([[ 1,  5,  6],\n",
       "       [ 1,  8,  9],\n",
       "       [ 1, -1,  6]])"
      ]
     },
     "execution_count": 276,
     "metadata": {},
     "output_type": "execute_result"
    }
   ],
   "source": [
    "A"
   ]
  },
  {
   "cell_type": "code",
   "execution_count": 279,
   "id": "b90185c2-7148-4583-ba19-db8fe27a265f",
   "metadata": {
    "tags": []
   },
   "outputs": [
    {
     "data": {
      "text/plain": [
       "array([[ 1.,  5.,  6.],\n",
       "       [ 1.,  8.,  9.],\n",
       "       [ 1., -1.,  6.]])"
      ]
     },
     "execution_count": 279,
     "metadata": {},
     "output_type": "execute_result"
    }
   ],
   "source": [
    "U, s, V_t = np.linalg.svd(A)\n",
    "S = np.diag(s)\n",
    "\n",
    "np.matmul(np.matmul(U, S), V_t)"
   ]
  },
  {
   "cell_type": "markdown",
   "id": "ea85c043-03d3-4588-ac1b-78eba5507f44",
   "metadata": {},
   "source": [
    "### 5. Matrix Norms"
   ]
  },
  {
   "cell_type": "code",
   "execution_count": 280,
   "id": "372c0a6d-dcbb-4596-9240-bafeeb3eb78b",
   "metadata": {
    "tags": []
   },
   "outputs": [
    {
     "data": {
      "text/plain": [
       "15.684387141358123"
      ]
     },
     "execution_count": 280,
     "metadata": {},
     "output_type": "execute_result"
    }
   ],
   "source": [
    "np.linalg.norm(A) # L2 norm"
   ]
  },
  {
   "cell_type": "code",
   "execution_count": 281,
   "id": "0337dc38-25e6-4fa8-8fe0-7a4a8ce492bf",
   "metadata": {
    "tags": []
   },
   "outputs": [
    {
     "data": {
      "text/plain": [
       "17.999999999999996"
      ]
     },
     "execution_count": 281,
     "metadata": {},
     "output_type": "execute_result"
    }
   ],
   "source": [
    "np.linalg.det(A)"
   ]
  },
  {
   "cell_type": "code",
   "execution_count": 283,
   "id": "cfcddde0-3b41-4fe0-b5a5-338c7c61f796",
   "metadata": {
    "tags": []
   },
   "outputs": [
    {
     "data": {
      "text/plain": [
       "3"
      ]
     },
     "execution_count": 283,
     "metadata": {},
     "output_type": "execute_result"
    }
   ],
   "source": [
    "np.linalg.matrix_rank(A)"
   ]
  },
  {
   "cell_type": "code",
   "execution_count": 284,
   "id": "7b2e4a32-b43d-4d38-a912-f13cec4e7568",
   "metadata": {
    "tags": []
   },
   "outputs": [
    {
     "data": {
      "text/plain": [
       "15"
      ]
     },
     "execution_count": 284,
     "metadata": {},
     "output_type": "execute_result"
    }
   ],
   "source": [
    "np.trace(A)"
   ]
  },
  {
   "cell_type": "markdown",
   "id": "474d4c77-b969-489b-83f4-32d45881b8e9",
   "metadata": {},
   "source": [
    "### 6. Solving Equations\n",
    "\n",
    "$$ Ax=b $$"
   ]
  },
  {
   "cell_type": "code",
   "execution_count": 285,
   "id": "365d1bd5-4e5e-4cc2-b191-c7cfbe9243cc",
   "metadata": {
    "tags": []
   },
   "outputs": [
    {
     "data": {
      "text/plain": [
       "array([[ 1,  5,  6],\n",
       "       [ 1,  8,  9],\n",
       "       [ 1, -1,  6]])"
      ]
     },
     "execution_count": 285,
     "metadata": {},
     "output_type": "execute_result"
    }
   ],
   "source": [
    "A"
   ]
  },
  {
   "cell_type": "code",
   "execution_count": 288,
   "id": "b84c4f14-91fc-4a9f-9712-c3da7e2a324e",
   "metadata": {
    "tags": []
   },
   "outputs": [
    {
     "data": {
      "text/plain": [
       "array([[0.24099995],\n",
       "       [0.52111803],\n",
       "       [0.76605759]])"
      ]
     },
     "execution_count": 288,
     "metadata": {},
     "output_type": "execute_result"
    }
   ],
   "source": [
    "b = np.random.random((3,1))\n",
    "b"
   ]
  },
  {
   "cell_type": "code",
   "execution_count": 289,
   "id": "720109c3-f569-4b9c-8f9d-a9eab12c7cb5",
   "metadata": {
    "tags": []
   },
   "outputs": [
    {
     "data": {
      "text/plain": [
       "array([[-0.40674582],\n",
       "       [-0.08750961],\n",
       "       [ 0.1808823 ]])"
      ]
     },
     "execution_count": 289,
     "metadata": {},
     "output_type": "execute_result"
    }
   ],
   "source": [
    "np.linalg.solve(A, b)"
   ]
  },
  {
   "cell_type": "code",
   "execution_count": 290,
   "id": "620eb401-09b0-4bd7-9ed5-e4e0c14bc38b",
   "metadata": {
    "tags": []
   },
   "outputs": [
    {
     "data": {
      "text/plain": [
       "array([[-0.40674582],\n",
       "       [-0.08750961],\n",
       "       [ 0.1808823 ]])"
      ]
     },
     "execution_count": 290,
     "metadata": {},
     "output_type": "execute_result"
    }
   ],
   "source": [
    "np.matmul(np.linalg.inv(A), b)"
   ]
  },
  {
   "cell_type": "code",
   "execution_count": null,
   "id": "87279ee7-5bac-47b3-9af4-d953cf62a73c",
   "metadata": {},
   "outputs": [],
   "source": []
  }
 ],
 "metadata": {
  "kernelspec": {
   "display_name": "Python 3 (ipykernel)",
   "language": "python",
   "name": "python3"
  },
  "language_info": {
   "codemirror_mode": {
    "name": "ipython",
    "version": 3
   },
   "file_extension": ".py",
   "mimetype": "text/x-python",
   "name": "python",
   "nbconvert_exporter": "python",
   "pygments_lexer": "ipython3",
   "version": "3.9.1"
  }
 },
 "nbformat": 4,
 "nbformat_minor": 5
}
